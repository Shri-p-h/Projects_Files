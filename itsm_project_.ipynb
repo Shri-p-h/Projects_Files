{
 "cells": [
  {
   "cell_type": "markdown",
   "metadata": {},
   "source": [
    "# Team Members\n",
    "    Abijith M G\n",
    "    Shripad Hegde\n",
    "    Anand P\n",
    "    Christy Joseph\n",
    "    "
   ]
  },
  {
   "cell_type": "code",
   "execution_count": 1,
   "metadata": {},
   "outputs": [],
   "source": [
    "# !pip install xgboost"
   ]
  },
  {
   "cell_type": "code",
   "execution_count": 2,
   "metadata": {},
   "outputs": [
    {
     "name": "stderr",
     "output_type": "stream",
     "text": [
      "D:\\Softwares\\Anaconda\\lib\\site-packages\\sklearn\\externals\\joblib\\__init__.py:15: DeprecationWarning: sklearn.externals.joblib is deprecated in 0.21 and will be removed in 0.23. Please import this functionality directly from joblib, which can be installed with: pip install joblib. If this warning is raised when loading pickled models, you may need to re-serialize those models with scikit-learn 0.21+.\n",
      "  warnings.warn(msg, category=DeprecationWarning)\n"
     ]
    }
   ],
   "source": [
    "from sqlalchemy import create_engine\n",
    "import pandas as pd\n",
    "import numpy as np\n",
    "import datetime as dt\n",
    "import matplotlib.pyplot as plt\n",
    "from sklearn.preprocessing import LabelEncoder, StandardScaler\n",
    "from sklearn.model_selection import train_test_split\n",
    "from sklearn.metrics import accuracy_score, classification_report, confusion_matrix\n",
    "import itertools\n",
    "import statsmodels.api as sm\n",
    "from sklearn.externals import joblib\n",
    "%matplotlib inline"
   ]
  },
  {
   "cell_type": "code",
   "execution_count": 3,
   "metadata": {},
   "outputs": [],
   "source": [
    "import warnings\n",
    "warnings.filterwarnings('ignore')"
   ]
  },
  {
   "cell_type": "markdown",
   "metadata": {},
   "source": [
    "# Data\n",
    "\n",
    "### Connecting Server"
   ]
  },
  {
   "cell_type": "code",
   "execution_count": 4,
   "metadata": {},
   "outputs": [
    {
     "data": {
      "text/plain": [
       "['dataset_list']"
      ]
     },
     "execution_count": 4,
     "metadata": {},
     "output_type": "execute_result"
    }
   ],
   "source": [
    "db_host = '18.136.56.185:3306'\n",
    "username = 'dm_team'\n",
    "user_pass = 'dm_team123#'\n",
    "db_name = 'project_itsm'\n",
    "\n",
    "conn = create_engine('mysql+pymysql://'+username+':'+user_pass+'@'+db_host+'/'+db_name)\n",
    "conn.table_names()"
   ]
  },
  {
   "cell_type": "markdown",
   "metadata": {},
   "source": [
    "### Importing Data"
   ]
  },
  {
   "cell_type": "code",
   "execution_count": 5,
   "metadata": {},
   "outputs": [
    {
     "data": {
      "text/html": [
       "<div>\n",
       "<style scoped>\n",
       "    .dataframe tbody tr th:only-of-type {\n",
       "        vertical-align: middle;\n",
       "    }\n",
       "\n",
       "    .dataframe tbody tr th {\n",
       "        vertical-align: top;\n",
       "    }\n",
       "\n",
       "    .dataframe thead th {\n",
       "        text-align: right;\n",
       "    }\n",
       "</style>\n",
       "<table border=\"1\" class=\"dataframe\">\n",
       "  <thead>\n",
       "    <tr style=\"text-align: right;\">\n",
       "      <th></th>\n",
       "      <th>CI_Name</th>\n",
       "      <th>CI_Cat</th>\n",
       "      <th>CI_Subcat</th>\n",
       "      <th>WBS</th>\n",
       "      <th>Incident_ID</th>\n",
       "      <th>Status</th>\n",
       "      <th>Impact</th>\n",
       "      <th>Urgency</th>\n",
       "      <th>Priority</th>\n",
       "      <th>number_cnt</th>\n",
       "      <th>...</th>\n",
       "      <th>Reopen_Time</th>\n",
       "      <th>Resolved_Time</th>\n",
       "      <th>Close_Time</th>\n",
       "      <th>Handle_Time_hrs</th>\n",
       "      <th>Closure_Code</th>\n",
       "      <th>No_of_Related_Interactions</th>\n",
       "      <th>Related_Interaction</th>\n",
       "      <th>No_of_Related_Incidents</th>\n",
       "      <th>No_of_Related_Changes</th>\n",
       "      <th>Related_Change</th>\n",
       "    </tr>\n",
       "  </thead>\n",
       "  <tbody>\n",
       "    <tr>\n",
       "      <th>0</th>\n",
       "      <td>SUB000508</td>\n",
       "      <td>subapplication</td>\n",
       "      <td>Web Based Application</td>\n",
       "      <td>WBS000162</td>\n",
       "      <td>IM0000004</td>\n",
       "      <td>Closed</td>\n",
       "      <td>4</td>\n",
       "      <td>4</td>\n",
       "      <td>4</td>\n",
       "      <td>0.601292279</td>\n",
       "      <td>...</td>\n",
       "      <td></td>\n",
       "      <td>04-11-2013 13:50</td>\n",
       "      <td>04-11-2013 13:51</td>\n",
       "      <td>3,87,16,91,111</td>\n",
       "      <td>Other</td>\n",
       "      <td>1</td>\n",
       "      <td>SD0000007</td>\n",
       "      <td>2</td>\n",
       "      <td></td>\n",
       "      <td></td>\n",
       "    </tr>\n",
       "    <tr>\n",
       "      <th>1</th>\n",
       "      <td>WBA000124</td>\n",
       "      <td>application</td>\n",
       "      <td>Web Based Application</td>\n",
       "      <td>WBS000088</td>\n",
       "      <td>IM0000005</td>\n",
       "      <td>Closed</td>\n",
       "      <td>3</td>\n",
       "      <td>3</td>\n",
       "      <td>3</td>\n",
       "      <td>0.415049969</td>\n",
       "      <td>...</td>\n",
       "      <td>02-12-2013 12:31</td>\n",
       "      <td>02-12-2013 12:36</td>\n",
       "      <td>02-12-2013 12:36</td>\n",
       "      <td>4,35,47,86,389</td>\n",
       "      <td>Software</td>\n",
       "      <td>1</td>\n",
       "      <td>SD0000011</td>\n",
       "      <td>1</td>\n",
       "      <td></td>\n",
       "      <td></td>\n",
       "    </tr>\n",
       "    <tr>\n",
       "      <th>2</th>\n",
       "      <td>DTA000024</td>\n",
       "      <td>application</td>\n",
       "      <td>Desktop Application</td>\n",
       "      <td>WBS000092</td>\n",
       "      <td>IM0000006</td>\n",
       "      <td>Closed</td>\n",
       "      <td>NS</td>\n",
       "      <td>3</td>\n",
       "      <td>NA</td>\n",
       "      <td>0.517551335</td>\n",
       "      <td>...</td>\n",
       "      <td></td>\n",
       "      <td>13-01-2014 15:12</td>\n",
       "      <td>13-01-2014 15:13</td>\n",
       "      <td>4,84,31,19,444</td>\n",
       "      <td>No error - works as designed</td>\n",
       "      <td>1</td>\n",
       "      <td>SD0000017</td>\n",
       "      <td></td>\n",
       "      <td></td>\n",
       "      <td></td>\n",
       "    </tr>\n",
       "    <tr>\n",
       "      <th>3</th>\n",
       "      <td>WBA000124</td>\n",
       "      <td>application</td>\n",
       "      <td>Web Based Application</td>\n",
       "      <td>WBS000088</td>\n",
       "      <td>IM0000011</td>\n",
       "      <td>Closed</td>\n",
       "      <td>4</td>\n",
       "      <td>4</td>\n",
       "      <td>4</td>\n",
       "      <td>0.642927218</td>\n",
       "      <td>...</td>\n",
       "      <td></td>\n",
       "      <td>14-11-2013 09:31</td>\n",
       "      <td>14-11-2013 09:31</td>\n",
       "      <td>4,32,18,33,333</td>\n",
       "      <td>Operator error</td>\n",
       "      <td>1</td>\n",
       "      <td>SD0000025</td>\n",
       "      <td></td>\n",
       "      <td></td>\n",
       "      <td></td>\n",
       "    </tr>\n",
       "    <tr>\n",
       "      <th>4</th>\n",
       "      <td>WBA000124</td>\n",
       "      <td>application</td>\n",
       "      <td>Web Based Application</td>\n",
       "      <td>WBS000088</td>\n",
       "      <td>IM0000012</td>\n",
       "      <td>Closed</td>\n",
       "      <td>4</td>\n",
       "      <td>4</td>\n",
       "      <td>4</td>\n",
       "      <td>0.345258343</td>\n",
       "      <td>...</td>\n",
       "      <td></td>\n",
       "      <td>08-11-2013 13:55</td>\n",
       "      <td>08-11-2013 13:55</td>\n",
       "      <td>3,38,39,03,333</td>\n",
       "      <td>Other</td>\n",
       "      <td>1</td>\n",
       "      <td>SD0000029</td>\n",
       "      <td></td>\n",
       "      <td></td>\n",
       "      <td></td>\n",
       "    </tr>\n",
       "  </tbody>\n",
       "</table>\n",
       "<p>5 rows × 25 columns</p>\n",
       "</div>"
      ],
      "text/plain": [
       "     CI_Name          CI_Cat              CI_Subcat        WBS Incident_ID  \\\n",
       "0  SUB000508  subapplication  Web Based Application  WBS000162   IM0000004   \n",
       "1  WBA000124     application  Web Based Application  WBS000088   IM0000005   \n",
       "2  DTA000024     application    Desktop Application  WBS000092   IM0000006   \n",
       "3  WBA000124     application  Web Based Application  WBS000088   IM0000011   \n",
       "4  WBA000124     application  Web Based Application  WBS000088   IM0000012   \n",
       "\n",
       "   Status Impact Urgency Priority   number_cnt      ...        \\\n",
       "0  Closed      4       4        4  0.601292279      ...         \n",
       "1  Closed      3       3        3  0.415049969      ...         \n",
       "2  Closed     NS       3       NA  0.517551335      ...         \n",
       "3  Closed      4       4        4  0.642927218      ...         \n",
       "4  Closed      4       4        4  0.345258343      ...         \n",
       "\n",
       "        Reopen_Time     Resolved_Time        Close_Time Handle_Time_hrs  \\\n",
       "0                    04-11-2013 13:50  04-11-2013 13:51  3,87,16,91,111   \n",
       "1  02-12-2013 12:31  02-12-2013 12:36  02-12-2013 12:36  4,35,47,86,389   \n",
       "2                    13-01-2014 15:12  13-01-2014 15:13  4,84,31,19,444   \n",
       "3                    14-11-2013 09:31  14-11-2013 09:31  4,32,18,33,333   \n",
       "4                    08-11-2013 13:55  08-11-2013 13:55  3,38,39,03,333   \n",
       "\n",
       "                   Closure_Code No_of_Related_Interactions  \\\n",
       "0                         Other                          1   \n",
       "1                      Software                          1   \n",
       "2  No error - works as designed                          1   \n",
       "3                Operator error                          1   \n",
       "4                         Other                          1   \n",
       "\n",
       "  Related_Interaction No_of_Related_Incidents No_of_Related_Changes  \\\n",
       "0           SD0000007                       2                         \n",
       "1           SD0000011                       1                         \n",
       "2           SD0000017                                                 \n",
       "3           SD0000025                                                 \n",
       "4           SD0000029                                                 \n",
       "\n",
       "  Related_Change  \n",
       "0                 \n",
       "1                 \n",
       "2                 \n",
       "3                 \n",
       "4                 \n",
       "\n",
       "[5 rows x 25 columns]"
      ]
     },
     "execution_count": 5,
     "metadata": {},
     "output_type": "execute_result"
    }
   ],
   "source": [
    "query=\"select * from dataset_list;\"\n",
    "data=pd.read_sql(query,conn)\n",
    "data.head()"
   ]
  },
  {
   "cell_type": "markdown",
   "metadata": {},
   "source": [
    "# Source Code\n",
    "\n",
    "### Exploratory Data Analysis "
   ]
  },
  {
   "cell_type": "code",
   "execution_count": 6,
   "metadata": {},
   "outputs": [
    {
     "data": {
      "text/plain": [
       "(46606, 25)"
      ]
     },
     "execution_count": 6,
     "metadata": {},
     "output_type": "execute_result"
    }
   ],
   "source": [
    "data.shape"
   ]
  },
  {
   "cell_type": "code",
   "execution_count": 7,
   "metadata": {},
   "outputs": [
    {
     "data": {
      "text/plain": [
       "Index(['CI_Name', 'CI_Cat', 'CI_Subcat', 'WBS', 'Incident_ID', 'Status',\n",
       "       'Impact', 'Urgency', 'Priority', 'number_cnt', 'Category', 'KB_number',\n",
       "       'Alert_Status', 'No_of_Reassignments', 'Open_Time', 'Reopen_Time',\n",
       "       'Resolved_Time', 'Close_Time', 'Handle_Time_hrs', 'Closure_Code',\n",
       "       'No_of_Related_Interactions', 'Related_Interaction',\n",
       "       'No_of_Related_Incidents', 'No_of_Related_Changes', 'Related_Change'],\n",
       "      dtype='object')"
      ]
     },
     "execution_count": 7,
     "metadata": {},
     "output_type": "execute_result"
    }
   ],
   "source": [
    "data.columns"
   ]
  },
  {
   "cell_type": "code",
   "execution_count": 8,
   "metadata": {},
   "outputs": [
    {
     "data": {
      "text/html": [
       "<div>\n",
       "<style scoped>\n",
       "    .dataframe tbody tr th:only-of-type {\n",
       "        vertical-align: middle;\n",
       "    }\n",
       "\n",
       "    .dataframe tbody tr th {\n",
       "        vertical-align: top;\n",
       "    }\n",
       "\n",
       "    .dataframe thead th {\n",
       "        text-align: right;\n",
       "    }\n",
       "</style>\n",
       "<table border=\"1\" class=\"dataframe\">\n",
       "  <thead>\n",
       "    <tr style=\"text-align: right;\">\n",
       "      <th></th>\n",
       "      <th>CI_Name</th>\n",
       "      <th>CI_Cat</th>\n",
       "      <th>CI_Subcat</th>\n",
       "      <th>WBS</th>\n",
       "      <th>Incident_ID</th>\n",
       "      <th>Status</th>\n",
       "      <th>Impact</th>\n",
       "      <th>Urgency</th>\n",
       "      <th>Priority</th>\n",
       "      <th>number_cnt</th>\n",
       "      <th>...</th>\n",
       "      <th>Reopen_Time</th>\n",
       "      <th>Resolved_Time</th>\n",
       "      <th>Close_Time</th>\n",
       "      <th>Handle_Time_hrs</th>\n",
       "      <th>Closure_Code</th>\n",
       "      <th>No_of_Related_Interactions</th>\n",
       "      <th>Related_Interaction</th>\n",
       "      <th>No_of_Related_Incidents</th>\n",
       "      <th>No_of_Related_Changes</th>\n",
       "      <th>Related_Change</th>\n",
       "    </tr>\n",
       "  </thead>\n",
       "  <tbody>\n",
       "    <tr>\n",
       "      <th>0</th>\n",
       "      <td>SUB000508</td>\n",
       "      <td>subapplication</td>\n",
       "      <td>Web Based Application</td>\n",
       "      <td>WBS000162</td>\n",
       "      <td>IM0000004</td>\n",
       "      <td>Closed</td>\n",
       "      <td>4</td>\n",
       "      <td>4</td>\n",
       "      <td>4</td>\n",
       "      <td>0.601292279</td>\n",
       "      <td>...</td>\n",
       "      <td></td>\n",
       "      <td>04-11-2013 13:50</td>\n",
       "      <td>04-11-2013 13:51</td>\n",
       "      <td>3,87,16,91,111</td>\n",
       "      <td>Other</td>\n",
       "      <td>1</td>\n",
       "      <td>SD0000007</td>\n",
       "      <td>2</td>\n",
       "      <td></td>\n",
       "      <td></td>\n",
       "    </tr>\n",
       "    <tr>\n",
       "      <th>1</th>\n",
       "      <td>WBA000124</td>\n",
       "      <td>application</td>\n",
       "      <td>Web Based Application</td>\n",
       "      <td>WBS000088</td>\n",
       "      <td>IM0000005</td>\n",
       "      <td>Closed</td>\n",
       "      <td>3</td>\n",
       "      <td>3</td>\n",
       "      <td>3</td>\n",
       "      <td>0.415049969</td>\n",
       "      <td>...</td>\n",
       "      <td>02-12-2013 12:31</td>\n",
       "      <td>02-12-2013 12:36</td>\n",
       "      <td>02-12-2013 12:36</td>\n",
       "      <td>4,35,47,86,389</td>\n",
       "      <td>Software</td>\n",
       "      <td>1</td>\n",
       "      <td>SD0000011</td>\n",
       "      <td>1</td>\n",
       "      <td></td>\n",
       "      <td></td>\n",
       "    </tr>\n",
       "    <tr>\n",
       "      <th>2</th>\n",
       "      <td>DTA000024</td>\n",
       "      <td>application</td>\n",
       "      <td>Desktop Application</td>\n",
       "      <td>WBS000092</td>\n",
       "      <td>IM0000006</td>\n",
       "      <td>Closed</td>\n",
       "      <td>NS</td>\n",
       "      <td>3</td>\n",
       "      <td>NA</td>\n",
       "      <td>0.517551335</td>\n",
       "      <td>...</td>\n",
       "      <td></td>\n",
       "      <td>13-01-2014 15:12</td>\n",
       "      <td>13-01-2014 15:13</td>\n",
       "      <td>4,84,31,19,444</td>\n",
       "      <td>No error - works as designed</td>\n",
       "      <td>1</td>\n",
       "      <td>SD0000017</td>\n",
       "      <td></td>\n",
       "      <td></td>\n",
       "      <td></td>\n",
       "    </tr>\n",
       "    <tr>\n",
       "      <th>3</th>\n",
       "      <td>WBA000124</td>\n",
       "      <td>application</td>\n",
       "      <td>Web Based Application</td>\n",
       "      <td>WBS000088</td>\n",
       "      <td>IM0000011</td>\n",
       "      <td>Closed</td>\n",
       "      <td>4</td>\n",
       "      <td>4</td>\n",
       "      <td>4</td>\n",
       "      <td>0.642927218</td>\n",
       "      <td>...</td>\n",
       "      <td></td>\n",
       "      <td>14-11-2013 09:31</td>\n",
       "      <td>14-11-2013 09:31</td>\n",
       "      <td>4,32,18,33,333</td>\n",
       "      <td>Operator error</td>\n",
       "      <td>1</td>\n",
       "      <td>SD0000025</td>\n",
       "      <td></td>\n",
       "      <td></td>\n",
       "      <td></td>\n",
       "    </tr>\n",
       "    <tr>\n",
       "      <th>4</th>\n",
       "      <td>WBA000124</td>\n",
       "      <td>application</td>\n",
       "      <td>Web Based Application</td>\n",
       "      <td>WBS000088</td>\n",
       "      <td>IM0000012</td>\n",
       "      <td>Closed</td>\n",
       "      <td>4</td>\n",
       "      <td>4</td>\n",
       "      <td>4</td>\n",
       "      <td>0.345258343</td>\n",
       "      <td>...</td>\n",
       "      <td></td>\n",
       "      <td>08-11-2013 13:55</td>\n",
       "      <td>08-11-2013 13:55</td>\n",
       "      <td>3,38,39,03,333</td>\n",
       "      <td>Other</td>\n",
       "      <td>1</td>\n",
       "      <td>SD0000029</td>\n",
       "      <td></td>\n",
       "      <td></td>\n",
       "      <td></td>\n",
       "    </tr>\n",
       "  </tbody>\n",
       "</table>\n",
       "<p>5 rows × 25 columns</p>\n",
       "</div>"
      ],
      "text/plain": [
       "     CI_Name          CI_Cat              CI_Subcat        WBS Incident_ID  \\\n",
       "0  SUB000508  subapplication  Web Based Application  WBS000162   IM0000004   \n",
       "1  WBA000124     application  Web Based Application  WBS000088   IM0000005   \n",
       "2  DTA000024     application    Desktop Application  WBS000092   IM0000006   \n",
       "3  WBA000124     application  Web Based Application  WBS000088   IM0000011   \n",
       "4  WBA000124     application  Web Based Application  WBS000088   IM0000012   \n",
       "\n",
       "   Status Impact Urgency Priority   number_cnt      ...        \\\n",
       "0  Closed      4       4        4  0.601292279      ...         \n",
       "1  Closed      3       3        3  0.415049969      ...         \n",
       "2  Closed     NS       3       NA  0.517551335      ...         \n",
       "3  Closed      4       4        4  0.642927218      ...         \n",
       "4  Closed      4       4        4  0.345258343      ...         \n",
       "\n",
       "        Reopen_Time     Resolved_Time        Close_Time Handle_Time_hrs  \\\n",
       "0                    04-11-2013 13:50  04-11-2013 13:51  3,87,16,91,111   \n",
       "1  02-12-2013 12:31  02-12-2013 12:36  02-12-2013 12:36  4,35,47,86,389   \n",
       "2                    13-01-2014 15:12  13-01-2014 15:13  4,84,31,19,444   \n",
       "3                    14-11-2013 09:31  14-11-2013 09:31  4,32,18,33,333   \n",
       "4                    08-11-2013 13:55  08-11-2013 13:55  3,38,39,03,333   \n",
       "\n",
       "                   Closure_Code No_of_Related_Interactions  \\\n",
       "0                         Other                          1   \n",
       "1                      Software                          1   \n",
       "2  No error - works as designed                          1   \n",
       "3                Operator error                          1   \n",
       "4                         Other                          1   \n",
       "\n",
       "  Related_Interaction No_of_Related_Incidents No_of_Related_Changes  \\\n",
       "0           SD0000007                       2                         \n",
       "1           SD0000011                       1                         \n",
       "2           SD0000017                                                 \n",
       "3           SD0000025                                                 \n",
       "4           SD0000029                                                 \n",
       "\n",
       "  Related_Change  \n",
       "0                 \n",
       "1                 \n",
       "2                 \n",
       "3                 \n",
       "4                 \n",
       "\n",
       "[5 rows x 25 columns]"
      ]
     },
     "execution_count": 8,
     "metadata": {},
     "output_type": "execute_result"
    }
   ],
   "source": [
    "data.head(5)"
   ]
  },
  {
   "cell_type": "code",
   "execution_count": 9,
   "metadata": {},
   "outputs": [
    {
     "name": "stdout",
     "output_type": "stream",
     "text": [
      "<class 'pandas.core.frame.DataFrame'>\n",
      "RangeIndex: 46606 entries, 0 to 46605\n",
      "Data columns (total 25 columns):\n",
      "CI_Name                       46606 non-null object\n",
      "CI_Cat                        46606 non-null object\n",
      "CI_Subcat                     46606 non-null object\n",
      "WBS                           46606 non-null object\n",
      "Incident_ID                   46606 non-null object\n",
      "Status                        46606 non-null object\n",
      "Impact                        46606 non-null object\n",
      "Urgency                       46606 non-null object\n",
      "Priority                      46606 non-null object\n",
      "number_cnt                    46606 non-null object\n",
      "Category                      46606 non-null object\n",
      "KB_number                     46606 non-null object\n",
      "Alert_Status                  46606 non-null object\n",
      "No_of_Reassignments           46606 non-null object\n",
      "Open_Time                     46606 non-null object\n",
      "Reopen_Time                   46606 non-null object\n",
      "Resolved_Time                 46606 non-null object\n",
      "Close_Time                    46606 non-null object\n",
      "Handle_Time_hrs               46606 non-null object\n",
      "Closure_Code                  46606 non-null object\n",
      "No_of_Related_Interactions    46606 non-null object\n",
      "Related_Interaction           46606 non-null object\n",
      "No_of_Related_Incidents       46606 non-null object\n",
      "No_of_Related_Changes         46606 non-null object\n",
      "Related_Change                46606 non-null object\n",
      "dtypes: object(25)\n",
      "memory usage: 8.9+ MB\n"
     ]
    }
   ],
   "source": [
    "# Looking for missing values\n",
    "data.info()"
   ]
  },
  {
   "cell_type": "markdown",
   "metadata": {},
   "source": [
    "## Data Processing\n",
    "\n",
    "- CI Category & CI Subcategory had a lot of labels which were replaced to only take the major ones. Unknown values were replaced by Mode values."
   ]
  },
  {
   "cell_type": "code",
   "execution_count": 51,
   "metadata": {},
   "outputs": [],
   "source": [
    "\n",
    "data.CI_Cat.replace(['database'],'storage',inplace=True)\n",
    "data.CI_Cat.replace(['applicationcomponent'],'subapplication',inplace=True)\n",
    "data.CI_Cat.replace(['displaydevice','officeelectronics','Phone','networkcomponents'],'hardware',inplace=True)\n",
    "data.CI_Cat.replace(np.nan,'application',inplace=True)\n"
   ]
  },
  {
   "cell_type": "code",
   "execution_count": 11,
   "metadata": {},
   "outputs": [],
   "source": [
    "\n",
    "data.CI_Subcat.replace('Desktop','Desktop Application',inplace=True)\n",
    "data.CI_Subcat.replace(['Application Server','Virtual Tape Server','ESX Server','zOS Server','Neoview Server','X86 Server',\n",
    "                       'Unix Server','Oracle Server','Windows Server in extern beheer','Thin Client','NonStop Server',\n",
    "                       'Number','Windows Server','Linux Server',np.nan,'SharePoint Farm','Lines'],\n",
    "                       'Server Based Application',inplace=True)\n",
    "data.CI_Subcat.replace('RAC Service','Banking Device',inplace=True)\n",
    "data.CI_Subcat.replace(['Iptelephony','Protocol','Net Device','IPtelephony','ESX Cluster','Standard Application'],\n",
    "                       'Web Based Application',inplace=True)\n",
    "data.CI_Subcat.replace(['VMWare','Security Software','zOS Systeem','Firewall','Database Software','VDI','Instance',\n",
    "                       'MQ Queue Manager','Automation Software','Citrix','SAP','Encryption'],'System Software',inplace=True)\n",
    "data.CI_Subcat.replace(['UPS','Omgeving'],'Client Based Application',inplace=True)\n",
    "data.CI_Subcat.replace(['NonStop Storage','NonStop Harddisk','Tape Library','zOS Cluster','DataCenterEquipment',\n",
    "                       'MigratieDummy'],'Database',inplace=True)\n",
    "data.CI_Subcat.replace(['Modem','Router'],'Network Component',inplace=True)\n",
    "data.CI_Subcat.replace('KVM Switches','Switch',inplace=True)"
   ]
  },
  {
   "cell_type": "code",
   "execution_count": 12,
   "metadata": {},
   "outputs": [],
   "source": [
    "\n",
    "data.No_of_Related_Interactions.replace(np.nan,1,inplace=True)\n",
    "data.Priority.replace(np.nan,4,inplace=True)\n",
    "data.No_of_Related_Incidents.replace(np.nan,0,inplace=True)\n",
    "data.No_of_Related_Changes.replace(np.nan,0,inplace=True)"
   ]
  },
  {
   "cell_type": "code",
   "execution_count": 50,
   "metadata": {
    "scrolled": true
   },
   "outputs": [
    {
     "data": {
      "text/html": [
       "<div>\n",
       "<style scoped>\n",
       "    .dataframe tbody tr th:only-of-type {\n",
       "        vertical-align: middle;\n",
       "    }\n",
       "\n",
       "    .dataframe tbody tr th {\n",
       "        vertical-align: top;\n",
       "    }\n",
       "\n",
       "    .dataframe thead th {\n",
       "        text-align: right;\n",
       "    }\n",
       "</style>\n",
       "<table border=\"1\" class=\"dataframe\">\n",
       "  <thead>\n",
       "    <tr style=\"text-align: right;\">\n",
       "      <th></th>\n",
       "      <th>CI_Name</th>\n",
       "      <th>CI_Cat</th>\n",
       "      <th>CI_Subcat</th>\n",
       "      <th>WBS</th>\n",
       "      <th>Incident_ID</th>\n",
       "      <th>Status</th>\n",
       "      <th>Impact</th>\n",
       "      <th>Urgency</th>\n",
       "      <th>Priority</th>\n",
       "      <th>number_cnt</th>\n",
       "      <th>...</th>\n",
       "      <th>Reopen_Time</th>\n",
       "      <th>Resolved_Time</th>\n",
       "      <th>Close_Time</th>\n",
       "      <th>Handle_Time_hrs</th>\n",
       "      <th>Closure_Code</th>\n",
       "      <th>No_of_Related_Interactions</th>\n",
       "      <th>Related_Interaction</th>\n",
       "      <th>No_of_Related_Incidents</th>\n",
       "      <th>No_of_Related_Changes</th>\n",
       "      <th>Related_Change</th>\n",
       "    </tr>\n",
       "  </thead>\n",
       "  <tbody>\n",
       "    <tr>\n",
       "      <th>0</th>\n",
       "      <td>SUB000508</td>\n",
       "      <td>subapplication</td>\n",
       "      <td>Web Based Application</td>\n",
       "      <td>WBS000162</td>\n",
       "      <td>IM0000004</td>\n",
       "      <td>Closed</td>\n",
       "      <td>4</td>\n",
       "      <td>4</td>\n",
       "      <td>4</td>\n",
       "      <td>0.601292279</td>\n",
       "      <td>...</td>\n",
       "      <td></td>\n",
       "      <td>04-11-2013 13:50</td>\n",
       "      <td>04-11-2013 13:51</td>\n",
       "      <td>3,87,16,91,111</td>\n",
       "      <td>Other</td>\n",
       "      <td>1</td>\n",
       "      <td>SD0000007</td>\n",
       "      <td>2</td>\n",
       "      <td></td>\n",
       "      <td></td>\n",
       "    </tr>\n",
       "    <tr>\n",
       "      <th>1</th>\n",
       "      <td>WBA000124</td>\n",
       "      <td>application</td>\n",
       "      <td>Web Based Application</td>\n",
       "      <td>WBS000088</td>\n",
       "      <td>IM0000005</td>\n",
       "      <td>Closed</td>\n",
       "      <td>3</td>\n",
       "      <td>3</td>\n",
       "      <td>3</td>\n",
       "      <td>0.415049969</td>\n",
       "      <td>...</td>\n",
       "      <td>02-12-2013 12:31</td>\n",
       "      <td>02-12-2013 12:36</td>\n",
       "      <td>02-12-2013 12:36</td>\n",
       "      <td>4,35,47,86,389</td>\n",
       "      <td>Software</td>\n",
       "      <td>1</td>\n",
       "      <td>SD0000011</td>\n",
       "      <td>1</td>\n",
       "      <td></td>\n",
       "      <td></td>\n",
       "    </tr>\n",
       "    <tr>\n",
       "      <th>2</th>\n",
       "      <td>DTA000024</td>\n",
       "      <td>application</td>\n",
       "      <td>Desktop Application</td>\n",
       "      <td>WBS000092</td>\n",
       "      <td>IM0000006</td>\n",
       "      <td>Closed</td>\n",
       "      <td>NS</td>\n",
       "      <td>3</td>\n",
       "      <td>NA</td>\n",
       "      <td>0.517551335</td>\n",
       "      <td>...</td>\n",
       "      <td></td>\n",
       "      <td>13-01-2014 15:12</td>\n",
       "      <td>13-01-2014 15:13</td>\n",
       "      <td>4,84,31,19,444</td>\n",
       "      <td>No error - works as designed</td>\n",
       "      <td>1</td>\n",
       "      <td>SD0000017</td>\n",
       "      <td></td>\n",
       "      <td></td>\n",
       "      <td></td>\n",
       "    </tr>\n",
       "    <tr>\n",
       "      <th>3</th>\n",
       "      <td>WBA000124</td>\n",
       "      <td>application</td>\n",
       "      <td>Web Based Application</td>\n",
       "      <td>WBS000088</td>\n",
       "      <td>IM0000011</td>\n",
       "      <td>Closed</td>\n",
       "      <td>4</td>\n",
       "      <td>4</td>\n",
       "      <td>4</td>\n",
       "      <td>0.642927218</td>\n",
       "      <td>...</td>\n",
       "      <td></td>\n",
       "      <td>14-11-2013 09:31</td>\n",
       "      <td>14-11-2013 09:31</td>\n",
       "      <td>4,32,18,33,333</td>\n",
       "      <td>Operator error</td>\n",
       "      <td>1</td>\n",
       "      <td>SD0000025</td>\n",
       "      <td></td>\n",
       "      <td></td>\n",
       "      <td></td>\n",
       "    </tr>\n",
       "  </tbody>\n",
       "</table>\n",
       "<p>4 rows × 25 columns</p>\n",
       "</div>"
      ],
      "text/plain": [
       "     CI_Name          CI_Cat              CI_Subcat        WBS Incident_ID  \\\n",
       "0  SUB000508  subapplication  Web Based Application  WBS000162   IM0000004   \n",
       "1  WBA000124     application  Web Based Application  WBS000088   IM0000005   \n",
       "2  DTA000024     application    Desktop Application  WBS000092   IM0000006   \n",
       "3  WBA000124     application  Web Based Application  WBS000088   IM0000011   \n",
       "\n",
       "   Status Impact Urgency Priority   number_cnt      ...        \\\n",
       "0  Closed      4       4        4  0.601292279      ...         \n",
       "1  Closed      3       3        3  0.415049969      ...         \n",
       "2  Closed     NS       3       NA  0.517551335      ...         \n",
       "3  Closed      4       4        4  0.642927218      ...         \n",
       "\n",
       "        Reopen_Time     Resolved_Time        Close_Time Handle_Time_hrs  \\\n",
       "0                    04-11-2013 13:50  04-11-2013 13:51  3,87,16,91,111   \n",
       "1  02-12-2013 12:31  02-12-2013 12:36  02-12-2013 12:36  4,35,47,86,389   \n",
       "2                    13-01-2014 15:12  13-01-2014 15:13  4,84,31,19,444   \n",
       "3                    14-11-2013 09:31  14-11-2013 09:31  4,32,18,33,333   \n",
       "\n",
       "                   Closure_Code No_of_Related_Interactions  \\\n",
       "0                         Other                          1   \n",
       "1                      Software                          1   \n",
       "2  No error - works as designed                          1   \n",
       "3                Operator error                          1   \n",
       "\n",
       "  Related_Interaction No_of_Related_Incidents No_of_Related_Changes  \\\n",
       "0           SD0000007                       2                         \n",
       "1           SD0000011                       1                         \n",
       "2           SD0000017                                                 \n",
       "3           SD0000025                                                 \n",
       "\n",
       "  Related_Change  \n",
       "0                 \n",
       "1                 \n",
       "2                 \n",
       "3                 \n",
       "\n",
       "[4 rows x 25 columns]"
      ]
     },
     "execution_count": 50,
     "metadata": {},
     "output_type": "execute_result"
    }
   ],
   "source": [
    "data.head(4)"
   ]
  },
  {
   "cell_type": "markdown",
   "metadata": {},
   "source": [
    "## 1. Predicting Priorities\n",
    "\n",
    "#### Feature Selection\n",
    "\n",
    "- Only the features which are available when the tickets arrives can be used to predict priority. Therefore, we have used only 4 predictors."
   ]
  },
  {
   "cell_type": "code",
   "execution_count": 13,
   "metadata": {},
   "outputs": [],
   "source": [
    "X = data.loc[:,['CI_Cat','CI_Subcat','WBS','Category']]\n",
    "y = data.Priority"
   ]
  },
  {
   "cell_type": "code",
   "execution_count": 52,
   "metadata": {},
   "outputs": [
    {
     "data": {
      "text/html": [
       "<div>\n",
       "<style scoped>\n",
       "    .dataframe tbody tr th:only-of-type {\n",
       "        vertical-align: middle;\n",
       "    }\n",
       "\n",
       "    .dataframe tbody tr th {\n",
       "        vertical-align: top;\n",
       "    }\n",
       "\n",
       "    .dataframe thead th {\n",
       "        text-align: right;\n",
       "    }\n",
       "</style>\n",
       "<table border=\"1\" class=\"dataframe\">\n",
       "  <thead>\n",
       "    <tr style=\"text-align: right;\">\n",
       "      <th></th>\n",
       "      <th>CI_Cat</th>\n",
       "      <th>CI_Subcat</th>\n",
       "      <th>WBS</th>\n",
       "      <th>Category</th>\n",
       "    </tr>\n",
       "  </thead>\n",
       "  <tbody>\n",
       "    <tr>\n",
       "      <th>0</th>\n",
       "      <td>6</td>\n",
       "      <td>17</td>\n",
       "      <td>137</td>\n",
       "      <td>1</td>\n",
       "    </tr>\n",
       "    <tr>\n",
       "      <th>1</th>\n",
       "      <td>1</td>\n",
       "      <td>17</td>\n",
       "      <td>70</td>\n",
       "      <td>1</td>\n",
       "    </tr>\n",
       "    <tr>\n",
       "      <th>2</th>\n",
       "      <td>1</td>\n",
       "      <td>5</td>\n",
       "      <td>74</td>\n",
       "      <td>3</td>\n",
       "    </tr>\n",
       "  </tbody>\n",
       "</table>\n",
       "</div>"
      ],
      "text/plain": [
       "   CI_Cat  CI_Subcat  WBS  Category\n",
       "0       6         17  137         1\n",
       "1       1         17   70         1\n",
       "2       1          5   74         3"
      ]
     },
     "execution_count": 52,
     "metadata": {},
     "output_type": "execute_result"
    }
   ],
   "source": [
    "X.head(3)"
   ]
  },
  {
   "cell_type": "code",
   "execution_count": 15,
   "metadata": {},
   "outputs": [],
   "source": [
    "# Label Encoding\n",
    "enc= LabelEncoder()\n",
    "for i in (0,1,2,3):\n",
    "    X.iloc[:,i] = enc.fit_transform(X.iloc[:,i])"
   ]
  },
  {
   "cell_type": "code",
   "execution_count": 16,
   "metadata": {},
   "outputs": [],
   "source": [
    "# Splitting the data into test and train for calculating accuracy\n",
    "X_train, X_test, y_train, y_test = train_test_split(X,y,test_size=0.3,random_state=10)"
   ]
  },
  {
   "cell_type": "code",
   "execution_count": 17,
   "metadata": {},
   "outputs": [],
   "source": [
    "# Standardization technique\n",
    "sc = StandardScaler()\n",
    "X_train = sc.fit_transform(X_train)\n",
    "X_test = sc.transform(X_test)"
   ]
  },
  {
   "cell_type": "code",
   "execution_count": 18,
   "metadata": {},
   "outputs": [
    {
     "data": {
      "text/plain": [
       "(32624, 4)"
      ]
     },
     "execution_count": 18,
     "metadata": {},
     "output_type": "execute_result"
    }
   ],
   "source": [
    "X_train.shape"
   ]
  },
  {
   "cell_type": "code",
   "execution_count": 19,
   "metadata": {},
   "outputs": [
    {
     "data": {
      "text/plain": [
       "(13982, 4)"
      ]
     },
     "execution_count": 19,
     "metadata": {},
     "output_type": "execute_result"
    }
   ],
   "source": [
    "X_test.shape"
   ]
  },
  {
   "cell_type": "markdown",
   "metadata": {},
   "source": [
    "# Models\n",
    "\n",
    "### 1. Support Vector Machine(SVM)"
   ]
  },
  {
   "cell_type": "code",
   "execution_count": 20,
   "metadata": {},
   "outputs": [],
   "source": [
    "# Training the model\n",
    "from sklearn.svm import SVC\n",
    "rbf_svc = SVC(kernel='rbf',C=10,gamma=0.1).fit(X_train,y_train)"
   ]
  },
  {
   "cell_type": "code",
   "execution_count": 21,
   "metadata": {},
   "outputs": [],
   "source": [
    "# Predicting the model\n",
    "y_predict_svm = rbf_svc.predict(X_test)"
   ]
  },
  {
   "cell_type": "code",
   "execution_count": 22,
   "metadata": {},
   "outputs": [
    {
     "name": "stdout",
     "output_type": "stream",
     "text": [
      "0.7296524102417393\n",
      "              precision    recall  f1-score   support\n",
      "\n",
      "           1       0.00      0.00      0.00         1\n",
      "           2       0.50      0.65      0.56       210\n",
      "           3       0.53      0.33      0.41      1581\n",
      "           4       0.70      0.90      0.79      6829\n",
      "           5       0.87      0.68      0.76      4936\n",
      "          NA       0.00      0.00      0.00       425\n",
      "\n",
      "    accuracy                           0.73     13982\n",
      "   macro avg       0.43      0.43      0.42     13982\n",
      "weighted avg       0.72      0.73      0.71     13982\n",
      "\n"
     ]
    }
   ],
   "source": [
    "# Finding accuracy, precision, recall and confusion matrix\n",
    "print(accuracy_score(y_test,y_predict_svm))\n",
    "print(classification_report(y_test,y_predict_svm))"
   ]
  },
  {
   "cell_type": "code",
   "execution_count": 23,
   "metadata": {},
   "outputs": [
    {
     "data": {
      "text/plain": [
       "array([[   0,    0,    0,    1,    0,    0],\n",
       "       [   0,  137,    9,   55,    9,    0],\n",
       "       [   0,   36,  529,  914,  102,    0],\n",
       "       [   0,   80,  201, 6162,  386,    0],\n",
       "       [   0,   10,  112, 1440, 3374,    0],\n",
       "       [   0,   12,  144,  253,   16,    0]], dtype=int64)"
      ]
     },
     "execution_count": 23,
     "metadata": {},
     "output_type": "execute_result"
    }
   ],
   "source": [
    "confusion_matrix(y_test,y_predict_svm)\n"
   ]
  },
  {
   "cell_type": "markdown",
   "metadata": {},
   "source": [
    "### 2. Decision Tree"
   ]
  },
  {
   "cell_type": "code",
   "execution_count": 24,
   "metadata": {},
   "outputs": [
    {
     "data": {
      "text/plain": [
       "DecisionTreeClassifier(class_weight=None, criterion='gini', max_depth=None,\n",
       "                       max_features=None, max_leaf_nodes=None,\n",
       "                       min_impurity_decrease=0.0, min_impurity_split=None,\n",
       "                       min_samples_leaf=1, min_samples_split=2,\n",
       "                       min_weight_fraction_leaf=0.0, presort=False,\n",
       "                       random_state=None, splitter='best')"
      ]
     },
     "execution_count": 24,
     "metadata": {},
     "output_type": "execute_result"
    }
   ],
   "source": [
    "# Training the model\n",
    "from sklearn.tree import DecisionTreeClassifier\n",
    "model_dtree=DecisionTreeClassifier()\n",
    "model_dtree.fit(X_train,y_train)"
   ]
  },
  {
   "cell_type": "code",
   "execution_count": 25,
   "metadata": {},
   "outputs": [],
   "source": [
    "# Predicting the model\n",
    "y_predict_dtree = model_dtree.predict(X_test)"
   ]
  },
  {
   "cell_type": "code",
   "execution_count": 26,
   "metadata": {},
   "outputs": [
    {
     "name": "stdout",
     "output_type": "stream",
     "text": [
      "0.8090401945358318\n",
      "              precision    recall  f1-score   support\n",
      "\n",
      "           1       0.00      0.00      0.00         1\n",
      "           2       0.52      0.69      0.59       210\n",
      "           3       0.66      0.64      0.65      1581\n",
      "           4       0.81      0.91      0.85      6829\n",
      "           5       0.88      0.80      0.84      4936\n",
      "          NA       0.00      0.00      0.00       425\n",
      "\n",
      "    accuracy                           0.81     13982\n",
      "   macro avg       0.48      0.51      0.49     13982\n",
      "weighted avg       0.79      0.81      0.80     13982\n",
      "\n"
     ]
    }
   ],
   "source": [
    "# Finding accuracy, precision, recall and confusion matrix\n",
    "print(accuracy_score(y_test,y_predict_dtree))\n",
    "print(classification_report(y_test,y_predict_dtree))\n"
   ]
  },
  {
   "cell_type": "code",
   "execution_count": 27,
   "metadata": {},
   "outputs": [
    {
     "data": {
      "text/plain": [
       "array([[   0,    0,    0,    1,    0,    0],\n",
       "       [   0,  144,    6,   43,   17,    0],\n",
       "       [   0,   42, 1011,  408,  120,    0],\n",
       "       [   0,   68,  202, 6194,  365,    0],\n",
       "       [   0,   12,   55,  906, 3963,    0],\n",
       "       [   0,   12,  268,  118,   27,    0]], dtype=int64)"
      ]
     },
     "execution_count": 27,
     "metadata": {},
     "output_type": "execute_result"
    }
   ],
   "source": [
    "confusion_matrix(y_test,y_predict_dtree)"
   ]
  },
  {
   "cell_type": "markdown",
   "metadata": {},
   "source": [
    "### 3. Random Forest"
   ]
  },
  {
   "cell_type": "code",
   "execution_count": 28,
   "metadata": {},
   "outputs": [
    {
     "data": {
      "text/plain": [
       "RandomForestClassifier(bootstrap=True, class_weight=None, criterion='gini',\n",
       "                       max_depth=27, max_features='auto', max_leaf_nodes=None,\n",
       "                       min_impurity_decrease=0.0, min_impurity_split=None,\n",
       "                       min_samples_leaf=1, min_samples_split=2,\n",
       "                       min_weight_fraction_leaf=0.0, n_estimators=10,\n",
       "                       n_jobs=None, oob_score=False, random_state=None,\n",
       "                       verbose=0, warm_start=False)"
      ]
     },
     "execution_count": 28,
     "metadata": {},
     "output_type": "execute_result"
    }
   ],
   "source": [
    "# Training the model\n",
    "from sklearn.ensemble import RandomForestClassifier\n",
    "model_rf = RandomForestClassifier(max_depth=27)\n",
    "model_rf.fit(X_train,y_train)"
   ]
  },
  {
   "cell_type": "code",
   "execution_count": 29,
   "metadata": {},
   "outputs": [],
   "source": [
    "# Predicting the model\n",
    "y_predict_rf = model_rf.predict(X_test)"
   ]
  },
  {
   "cell_type": "code",
   "execution_count": 30,
   "metadata": {},
   "outputs": [
    {
     "name": "stdout",
     "output_type": "stream",
     "text": [
      "0.8085395508510943\n",
      "              precision    recall  f1-score   support\n",
      "\n",
      "           1       0.00      0.00      0.00         1\n",
      "           2       0.52      0.66      0.58       210\n",
      "           3       0.66      0.63      0.65      1581\n",
      "           4       0.81      0.91      0.85      6829\n",
      "           5       0.88      0.80      0.84      4936\n",
      "          NA       0.27      0.01      0.01       425\n",
      "\n",
      "    accuracy                           0.81     13982\n",
      "   macro avg       0.52      0.50      0.49     13982\n",
      "weighted avg       0.80      0.81      0.80     13982\n",
      "\n"
     ]
    }
   ],
   "source": [
    "# Finding accuracy, precision, recall and confusion matrix\n",
    "print(accuracy_score(y_test,y_predict_rf))\n",
    "print(classification_report(y_test,y_predict_rf))"
   ]
  },
  {
   "cell_type": "code",
   "execution_count": 31,
   "metadata": {},
   "outputs": [
    {
     "data": {
      "text/plain": [
       "array([[   0,    0,    0,    1,    0,    0],\n",
       "       [   0,  139,   10,   44,   17,    0],\n",
       "       [   0,   38, 1003,  411,  124,    5],\n",
       "       [   0,   66,  198, 6192,  371,    2],\n",
       "       [   0,   11,   51,  905, 3968,    1],\n",
       "       [   0,   12,  262,  117,   31,    3]], dtype=int64)"
      ]
     },
     "execution_count": 31,
     "metadata": {},
     "output_type": "execute_result"
    }
   ],
   "source": [
    "confusion_matrix(y_test,y_predict_rf)"
   ]
  },
  {
   "cell_type": "markdown",
   "metadata": {},
   "source": [
    "### 4. K-Nearest Neighbor"
   ]
  },
  {
   "cell_type": "code",
   "execution_count": 32,
   "metadata": {},
   "outputs": [
    {
     "data": {
      "text/plain": [
       "KNeighborsClassifier(algorithm='auto', leaf_size=30, metric='euclidean',\n",
       "                     metric_params=None, n_jobs=None, n_neighbors=12, p=2,\n",
       "                     weights='uniform')"
      ]
     },
     "execution_count": 32,
     "metadata": {},
     "output_type": "execute_result"
    }
   ],
   "source": [
    "# Training the model\n",
    "from sklearn.neighbors import KNeighborsClassifier\n",
    "model_knn = KNeighborsClassifier(n_neighbors=12,metric='euclidean') # Maximum accuracy for n=10\n",
    "model_knn.fit(X_train,y_train)"
   ]
  },
  {
   "cell_type": "code",
   "execution_count": 33,
   "metadata": {},
   "outputs": [],
   "source": [
    "# Predicting the model\n",
    "y_predict_knn = model_knn.predict(X_test)"
   ]
  },
  {
   "cell_type": "code",
   "execution_count": 34,
   "metadata": {},
   "outputs": [
    {
     "name": "stdout",
     "output_type": "stream",
     "text": [
      "0.8001001287369475\n",
      "              precision    recall  f1-score   support\n",
      "\n",
      "           1       0.00      0.00      0.00         1\n",
      "           2       1.00      0.00      0.01       210\n",
      "           3       0.65      0.63      0.64      1581\n",
      "           4       0.79      0.91      0.85      6829\n",
      "           5       0.86      0.81      0.84      4936\n",
      "          NA       0.00      0.00      0.00       425\n",
      "\n",
      "    accuracy                           0.80     13982\n",
      "   macro avg       0.55      0.39      0.39     13982\n",
      "weighted avg       0.78      0.80      0.78     13982\n",
      "\n"
     ]
    }
   ],
   "source": [
    "# Finding accuracy, precision, recall and confusion matrix\n",
    "print(accuracy_score(y_test,y_predict_knn))\n",
    "print(classification_report(y_test,y_predict_knn))"
   ]
  },
  {
   "cell_type": "code",
   "execution_count": 35,
   "metadata": {},
   "outputs": [
    {
     "data": {
      "text/plain": [
       "array([[   0,    0,    0,    1,    0,    0],\n",
       "       [   0,    1,    7,  180,   22,    0],\n",
       "       [   0,    0,  992,  444,  143,    2],\n",
       "       [   0,    0,  201, 6194,  434,    0],\n",
       "       [   0,    0,   57,  879, 4000,    0],\n",
       "       [   0,    0,  269,  130,   26,    0]], dtype=int64)"
      ]
     },
     "execution_count": 35,
     "metadata": {},
     "output_type": "execute_result"
    }
   ],
   "source": [
    "confusion_matrix(y_test,y_predict_knn)\n"
   ]
  },
  {
   "cell_type": "markdown",
   "metadata": {},
   "source": [
    "### 5. XGBoost Classifier"
   ]
  },
  {
   "cell_type": "code",
   "execution_count": 36,
   "metadata": {},
   "outputs": [
    {
     "data": {
      "text/plain": [
       "XGBClassifier(base_score=0.5, booster='gbtree', colsample_bylevel=1,\n",
       "              colsample_bynode=1, colsample_bytree=1, gamma=0,\n",
       "              learning_rate=0.1, max_delta_step=0, max_depth=3,\n",
       "              min_child_weight=1, missing=None, n_estimators=100, n_jobs=1,\n",
       "              nthread=None, objective='multi:softprob', random_state=0,\n",
       "              reg_alpha=0, reg_lambda=1, scale_pos_weight=1, seed=None,\n",
       "              silent=None, subsample=1, verbosity=1)"
      ]
     },
     "execution_count": 36,
     "metadata": {},
     "output_type": "execute_result"
    }
   ],
   "source": [
    "# Training the model\n",
    "from xgboost import XGBClassifier\n",
    "model_xgb = XGBClassifier()\n",
    "model_xgb.fit(X_train,y_train)"
   ]
  },
  {
   "cell_type": "code",
   "execution_count": 37,
   "metadata": {},
   "outputs": [],
   "source": [
    "# Predicting the model\n",
    "y_predict_xgb = model_xgb.predict(X_test)"
   ]
  },
  {
   "cell_type": "code",
   "execution_count": 38,
   "metadata": {},
   "outputs": [
    {
     "name": "stdout",
     "output_type": "stream",
     "text": [
      "0.7820054355600057\n",
      "              precision    recall  f1-score   support\n",
      "\n",
      "           1       0.00      0.00      0.00         1\n",
      "           2       0.53      0.65      0.59       210\n",
      "           3       0.64      0.46      0.53      1581\n",
      "           4       0.77      0.91      0.83      6829\n",
      "           5       0.86      0.78      0.82      4936\n",
      "          NA       0.00      0.00      0.00       425\n",
      "\n",
      "    accuracy                           0.78     13982\n",
      "   macro avg       0.47      0.47      0.46     13982\n",
      "weighted avg       0.76      0.78      0.76     13982\n",
      "\n"
     ]
    }
   ],
   "source": [
    "# Finding accuracy, precision, recall and confusion matrix\n",
    "print(accuracy_score(y_test,y_predict_xgb))\n",
    "print(classification_report(y_test,y_predict_xgb))"
   ]
  },
  {
   "cell_type": "code",
   "execution_count": 39,
   "metadata": {},
   "outputs": [
    {
     "data": {
      "text/plain": [
       "array([[   0,    0,    0,    1,    0,    0],\n",
       "       [   0,  137,    7,   51,   15,    0],\n",
       "       [   0,   36,  722,  637,  186,    0],\n",
       "       [   0,   64,  155, 6202,  408,    0],\n",
       "       [   0,   10,   37, 1016, 3873,    0],\n",
       "       [   0,   11,  212,  169,   33,    0]], dtype=int64)"
      ]
     },
     "execution_count": 39,
     "metadata": {},
     "output_type": "execute_result"
    }
   ],
   "source": [
    "confusion_matrix(y_test,y_predict_xgb)\n"
   ]
  },
  {
   "cell_type": "markdown",
   "metadata": {},
   "source": [
    "### 6. Artificial Neural Network"
   ]
  },
  {
   "cell_type": "code",
   "execution_count": 40,
   "metadata": {},
   "outputs": [
    {
     "data": {
      "text/plain": [
       "MLPClassifier(activation='relu', alpha=0.0001, batch_size='auto', beta_1=0.9,\n",
       "              beta_2=0.999, early_stopping=False, epsilon=1e-08,\n",
       "              hidden_layer_sizes=(100,), learning_rate='constant',\n",
       "              learning_rate_init=0.001, max_iter=200, momentum=0.9,\n",
       "              n_iter_no_change=10, nesterovs_momentum=True, power_t=0.5,\n",
       "              random_state=None, shuffle=True, solver='adam', tol=0.0001,\n",
       "              validation_fraction=0.1, verbose=False, warm_start=False)"
      ]
     },
     "execution_count": 40,
     "metadata": {},
     "output_type": "execute_result"
    }
   ],
   "source": [
    "# Training the model\n",
    "from sklearn.neural_network import MLPClassifier\n",
    "model_mlp = MLPClassifier()\n",
    "model_mlp.fit(X_train,y_train)"
   ]
  },
  {
   "cell_type": "code",
   "execution_count": 41,
   "metadata": {},
   "outputs": [],
   "source": [
    "# Predicting the model\n",
    "y_predict_mlp = model_mlp.predict(X_test)"
   ]
  },
  {
   "cell_type": "code",
   "execution_count": 42,
   "metadata": {},
   "outputs": [
    {
     "name": "stdout",
     "output_type": "stream",
     "text": [
      "0.7498211986840223\n",
      "              precision    recall  f1-score   support\n",
      "\n",
      "           1       0.00      0.00      0.00         1\n",
      "           2       0.52      0.65      0.58       210\n",
      "           3       0.56      0.43      0.49      1581\n",
      "           4       0.73      0.90      0.80      6829\n",
      "           5       0.87      0.72      0.79      4936\n",
      "          NA       0.00      0.00      0.00       425\n",
      "\n",
      "    accuracy                           0.75     13982\n",
      "   macro avg       0.45      0.45      0.44     13982\n",
      "weighted avg       0.73      0.75      0.73     13982\n",
      "\n"
     ]
    }
   ],
   "source": [
    "# Finding accuracy, precision, recall and confusion matrix\n",
    "print(accuracy_score(y_test,y_predict_mlp))\n",
    "print(classification_report(y_test,y_predict_mlp))"
   ]
  },
  {
   "cell_type": "code",
   "execution_count": 43,
   "metadata": {},
   "outputs": [
    {
     "data": {
      "text/plain": [
       "array([[   0,    0,    0,    1,    0,    0],\n",
       "       [   0,  137,   11,   51,   11,    0],\n",
       "       [   0,   36,  676,  758,  111,    0],\n",
       "       [   0,   67,  236, 6116,  410,    0],\n",
       "       [   0,   10,   93, 1278, 3555,    0],\n",
       "       [   0,   11,  183,  214,   17,    0]], dtype=int64)"
      ]
     },
     "execution_count": 43,
     "metadata": {},
     "output_type": "execute_result"
    }
   ],
   "source": [
    "confusion_matrix(y_test,y_predict_mlp)\n"
   ]
  },
  {
   "cell_type": "code",
   "execution_count": 44,
   "metadata": {},
   "outputs": [
    {
     "data": {
      "text/plain": [
       "['Predicting_Priority.ml']"
      ]
     },
     "execution_count": 44,
     "metadata": {},
     "output_type": "execute_result"
    }
   ],
   "source": [
    "# Exporting the trained model\n",
    "joblib.dump(model_rf,'Predicting_Priority.ml')"
   ]
  },
  {
   "cell_type": "markdown",
   "metadata": {},
   "source": [
    "## 2. Predicting Request For Change (RFC)\n",
    "\n",
    "#### Feature Selection"
   ]
  },
  {
   "cell_type": "code",
   "execution_count": 45,
   "metadata": {},
   "outputs": [],
   "source": [
    "# Selecting the predictors\n",
    "X1 = data.loc[:,['CI_Subcat','WBS','Priority','Category','No_of_Related_Interactions','No_of_Related_Incidents']]\n",
    "y1 = data.No_of_Related_Changes"
   ]
  },
  {
   "cell_type": "code",
   "execution_count": 46,
   "metadata": {},
   "outputs": [
    {
     "data": {
      "text/html": [
       "<div>\n",
       "<style scoped>\n",
       "    .dataframe tbody tr th:only-of-type {\n",
       "        vertical-align: middle;\n",
       "    }\n",
       "\n",
       "    .dataframe tbody tr th {\n",
       "        vertical-align: top;\n",
       "    }\n",
       "\n",
       "    .dataframe thead th {\n",
       "        text-align: right;\n",
       "    }\n",
       "</style>\n",
       "<table border=\"1\" class=\"dataframe\">\n",
       "  <thead>\n",
       "    <tr style=\"text-align: right;\">\n",
       "      <th></th>\n",
       "      <th>CI_Subcat</th>\n",
       "      <th>WBS</th>\n",
       "      <th>Priority</th>\n",
       "      <th>Category</th>\n",
       "      <th>No_of_Related_Interactions</th>\n",
       "      <th>No_of_Related_Incidents</th>\n",
       "    </tr>\n",
       "  </thead>\n",
       "  <tbody>\n",
       "    <tr>\n",
       "      <th>0</th>\n",
       "      <td>Web Based Application</td>\n",
       "      <td>WBS000162</td>\n",
       "      <td>4</td>\n",
       "      <td>incident</td>\n",
       "      <td>1</td>\n",
       "      <td>2</td>\n",
       "    </tr>\n",
       "    <tr>\n",
       "      <th>1</th>\n",
       "      <td>Web Based Application</td>\n",
       "      <td>WBS000088</td>\n",
       "      <td>3</td>\n",
       "      <td>incident</td>\n",
       "      <td>1</td>\n",
       "      <td>1</td>\n",
       "    </tr>\n",
       "    <tr>\n",
       "      <th>2</th>\n",
       "      <td>Desktop Application</td>\n",
       "      <td>WBS000092</td>\n",
       "      <td>NA</td>\n",
       "      <td>request for information</td>\n",
       "      <td>1</td>\n",
       "      <td></td>\n",
       "    </tr>\n",
       "  </tbody>\n",
       "</table>\n",
       "</div>"
      ],
      "text/plain": [
       "               CI_Subcat        WBS Priority                 Category  \\\n",
       "0  Web Based Application  WBS000162        4                 incident   \n",
       "1  Web Based Application  WBS000088        3                 incident   \n",
       "2    Desktop Application  WBS000092       NA  request for information   \n",
       "\n",
       "  No_of_Related_Interactions No_of_Related_Incidents  \n",
       "0                          1                       2  \n",
       "1                          1                       1  \n",
       "2                          1                          "
      ]
     },
     "execution_count": 46,
     "metadata": {},
     "output_type": "execute_result"
    }
   ],
   "source": [
    "X1.head(3)"
   ]
  },
  {
   "cell_type": "code",
   "execution_count": 47,
   "metadata": {},
   "outputs": [],
   "source": [
    "enc= LabelEncoder()\n",
    "for i in (0,1,3,4):\n",
    "    X1.iloc[:,i] = enc.fit_transform(X1.iloc[:,i])"
   ]
  },
  {
   "cell_type": "code",
   "execution_count": 48,
   "metadata": {},
   "outputs": [],
   "source": [
    "# Splitting into train and test for calculating the accuracy\n",
    "X1_train, X1_test, y1_train, y1_test = train_test_split(X1,y1,test_size=0.3,random_state=10)"
   ]
  },
  {
   "cell_type": "code",
   "execution_count": 49,
   "metadata": {},
   "outputs": [
    {
     "ename": "ValueError",
     "evalue": "could not convert string to float: 'NA'",
     "output_type": "error",
     "traceback": [
      "\u001b[1;31m---------------------------------------------------------------------------\u001b[0m",
      "\u001b[1;31mValueError\u001b[0m                                Traceback (most recent call last)",
      "\u001b[1;32m<ipython-input-49-6190027460c9>\u001b[0m in \u001b[0;36m<module>\u001b[1;34m()\u001b[0m\n\u001b[0;32m      1\u001b[0m \u001b[1;31m# Standardization technique is used\u001b[0m\u001b[1;33m\u001b[0m\u001b[1;33m\u001b[0m\u001b[0m\n\u001b[0;32m      2\u001b[0m \u001b[0msc\u001b[0m \u001b[1;33m=\u001b[0m \u001b[0mStandardScaler\u001b[0m\u001b[1;33m(\u001b[0m\u001b[1;33m)\u001b[0m\u001b[1;33m\u001b[0m\u001b[0m\n\u001b[1;32m----> 3\u001b[1;33m \u001b[0mX1_train\u001b[0m \u001b[1;33m=\u001b[0m \u001b[0msc\u001b[0m\u001b[1;33m.\u001b[0m\u001b[0mfit_transform\u001b[0m\u001b[1;33m(\u001b[0m\u001b[0mX1_train\u001b[0m\u001b[1;33m)\u001b[0m\u001b[1;33m\u001b[0m\u001b[0m\n\u001b[0m\u001b[0;32m      4\u001b[0m \u001b[0mX1_test\u001b[0m \u001b[1;33m=\u001b[0m \u001b[0msc\u001b[0m\u001b[1;33m.\u001b[0m\u001b[0mtransform\u001b[0m\u001b[1;33m(\u001b[0m\u001b[0mX1_test\u001b[0m\u001b[1;33m)\u001b[0m\u001b[1;33m\u001b[0m\u001b[0m\n",
      "\u001b[1;32mD:\\Softwares\\Anaconda\\lib\\site-packages\\sklearn\\base.py\u001b[0m in \u001b[0;36mfit_transform\u001b[1;34m(self, X, y, **fit_params)\u001b[0m\n\u001b[0;32m    551\u001b[0m         \u001b[1;32mif\u001b[0m \u001b[0my\u001b[0m \u001b[1;32mis\u001b[0m \u001b[1;32mNone\u001b[0m\u001b[1;33m:\u001b[0m\u001b[1;33m\u001b[0m\u001b[0m\n\u001b[0;32m    552\u001b[0m             \u001b[1;31m# fit method of arity 1 (unsupervised transformation)\u001b[0m\u001b[1;33m\u001b[0m\u001b[1;33m\u001b[0m\u001b[0m\n\u001b[1;32m--> 553\u001b[1;33m             \u001b[1;32mreturn\u001b[0m \u001b[0mself\u001b[0m\u001b[1;33m.\u001b[0m\u001b[0mfit\u001b[0m\u001b[1;33m(\u001b[0m\u001b[0mX\u001b[0m\u001b[1;33m,\u001b[0m \u001b[1;33m**\u001b[0m\u001b[0mfit_params\u001b[0m\u001b[1;33m)\u001b[0m\u001b[1;33m.\u001b[0m\u001b[0mtransform\u001b[0m\u001b[1;33m(\u001b[0m\u001b[0mX\u001b[0m\u001b[1;33m)\u001b[0m\u001b[1;33m\u001b[0m\u001b[0m\n\u001b[0m\u001b[0;32m    554\u001b[0m         \u001b[1;32melse\u001b[0m\u001b[1;33m:\u001b[0m\u001b[1;33m\u001b[0m\u001b[0m\n\u001b[0;32m    555\u001b[0m             \u001b[1;31m# fit method of arity 2 (supervised transformation)\u001b[0m\u001b[1;33m\u001b[0m\u001b[1;33m\u001b[0m\u001b[0m\n",
      "\u001b[1;32mD:\\Softwares\\Anaconda\\lib\\site-packages\\sklearn\\preprocessing\\data.py\u001b[0m in \u001b[0;36mfit\u001b[1;34m(self, X, y)\u001b[0m\n\u001b[0;32m    637\u001b[0m         \u001b[1;31m# Reset internal state before fitting\u001b[0m\u001b[1;33m\u001b[0m\u001b[1;33m\u001b[0m\u001b[0m\n\u001b[0;32m    638\u001b[0m         \u001b[0mself\u001b[0m\u001b[1;33m.\u001b[0m\u001b[0m_reset\u001b[0m\u001b[1;33m(\u001b[0m\u001b[1;33m)\u001b[0m\u001b[1;33m\u001b[0m\u001b[0m\n\u001b[1;32m--> 639\u001b[1;33m         \u001b[1;32mreturn\u001b[0m \u001b[0mself\u001b[0m\u001b[1;33m.\u001b[0m\u001b[0mpartial_fit\u001b[0m\u001b[1;33m(\u001b[0m\u001b[0mX\u001b[0m\u001b[1;33m,\u001b[0m \u001b[0my\u001b[0m\u001b[1;33m)\u001b[0m\u001b[1;33m\u001b[0m\u001b[0m\n\u001b[0m\u001b[0;32m    640\u001b[0m \u001b[1;33m\u001b[0m\u001b[0m\n\u001b[0;32m    641\u001b[0m     \u001b[1;32mdef\u001b[0m \u001b[0mpartial_fit\u001b[0m\u001b[1;33m(\u001b[0m\u001b[0mself\u001b[0m\u001b[1;33m,\u001b[0m \u001b[0mX\u001b[0m\u001b[1;33m,\u001b[0m \u001b[0my\u001b[0m\u001b[1;33m=\u001b[0m\u001b[1;32mNone\u001b[0m\u001b[1;33m)\u001b[0m\u001b[1;33m:\u001b[0m\u001b[1;33m\u001b[0m\u001b[0m\n",
      "\u001b[1;32mD:\\Softwares\\Anaconda\\lib\\site-packages\\sklearn\\preprocessing\\data.py\u001b[0m in \u001b[0;36mpartial_fit\u001b[1;34m(self, X, y)\u001b[0m\n\u001b[0;32m    661\u001b[0m         X = check_array(X, accept_sparse=('csr', 'csc'), copy=self.copy,\n\u001b[0;32m    662\u001b[0m                         \u001b[0mestimator\u001b[0m\u001b[1;33m=\u001b[0m\u001b[0mself\u001b[0m\u001b[1;33m,\u001b[0m \u001b[0mdtype\u001b[0m\u001b[1;33m=\u001b[0m\u001b[0mFLOAT_DTYPES\u001b[0m\u001b[1;33m,\u001b[0m\u001b[1;33m\u001b[0m\u001b[0m\n\u001b[1;32m--> 663\u001b[1;33m                         force_all_finite='allow-nan')\n\u001b[0m\u001b[0;32m    664\u001b[0m \u001b[1;33m\u001b[0m\u001b[0m\n\u001b[0;32m    665\u001b[0m         \u001b[1;31m# Even in the case of `with_mean=False`, we update the mean anyway\u001b[0m\u001b[1;33m\u001b[0m\u001b[1;33m\u001b[0m\u001b[0m\n",
      "\u001b[1;32mD:\\Softwares\\Anaconda\\lib\\site-packages\\sklearn\\utils\\validation.py\u001b[0m in \u001b[0;36mcheck_array\u001b[1;34m(array, accept_sparse, accept_large_sparse, dtype, order, copy, force_all_finite, ensure_2d, allow_nd, ensure_min_samples, ensure_min_features, warn_on_dtype, estimator)\u001b[0m\n\u001b[0;32m    494\u001b[0m             \u001b[1;32mtry\u001b[0m\u001b[1;33m:\u001b[0m\u001b[1;33m\u001b[0m\u001b[0m\n\u001b[0;32m    495\u001b[0m                 \u001b[0mwarnings\u001b[0m\u001b[1;33m.\u001b[0m\u001b[0msimplefilter\u001b[0m\u001b[1;33m(\u001b[0m\u001b[1;34m'error'\u001b[0m\u001b[1;33m,\u001b[0m \u001b[0mComplexWarning\u001b[0m\u001b[1;33m)\u001b[0m\u001b[1;33m\u001b[0m\u001b[0m\n\u001b[1;32m--> 496\u001b[1;33m                 \u001b[0marray\u001b[0m \u001b[1;33m=\u001b[0m \u001b[0mnp\u001b[0m\u001b[1;33m.\u001b[0m\u001b[0masarray\u001b[0m\u001b[1;33m(\u001b[0m\u001b[0marray\u001b[0m\u001b[1;33m,\u001b[0m \u001b[0mdtype\u001b[0m\u001b[1;33m=\u001b[0m\u001b[0mdtype\u001b[0m\u001b[1;33m,\u001b[0m \u001b[0morder\u001b[0m\u001b[1;33m=\u001b[0m\u001b[0morder\u001b[0m\u001b[1;33m)\u001b[0m\u001b[1;33m\u001b[0m\u001b[0m\n\u001b[0m\u001b[0;32m    497\u001b[0m             \u001b[1;32mexcept\u001b[0m \u001b[0mComplexWarning\u001b[0m\u001b[1;33m:\u001b[0m\u001b[1;33m\u001b[0m\u001b[0m\n\u001b[0;32m    498\u001b[0m                 raise ValueError(\"Complex data not supported\\n\"\n",
      "\u001b[1;32mD:\\Softwares\\Anaconda\\lib\\site-packages\\numpy\\core\\_asarray.py\u001b[0m in \u001b[0;36masarray\u001b[1;34m(a, dtype, order)\u001b[0m\n\u001b[0;32m     83\u001b[0m \u001b[1;33m\u001b[0m\u001b[0m\n\u001b[0;32m     84\u001b[0m     \"\"\"\n\u001b[1;32m---> 85\u001b[1;33m     \u001b[1;32mreturn\u001b[0m \u001b[0marray\u001b[0m\u001b[1;33m(\u001b[0m\u001b[0ma\u001b[0m\u001b[1;33m,\u001b[0m \u001b[0mdtype\u001b[0m\u001b[1;33m,\u001b[0m \u001b[0mcopy\u001b[0m\u001b[1;33m=\u001b[0m\u001b[1;32mFalse\u001b[0m\u001b[1;33m,\u001b[0m \u001b[0morder\u001b[0m\u001b[1;33m=\u001b[0m\u001b[0morder\u001b[0m\u001b[1;33m)\u001b[0m\u001b[1;33m\u001b[0m\u001b[0m\n\u001b[0m\u001b[0;32m     86\u001b[0m \u001b[1;33m\u001b[0m\u001b[0m\n\u001b[0;32m     87\u001b[0m \u001b[1;33m\u001b[0m\u001b[0m\n",
      "\u001b[1;31mValueError\u001b[0m: could not convert string to float: 'NA'"
     ]
    }
   ],
   "source": [
    "# Standardization technique is used\n",
    "sc = StandardScaler()\n",
    "X1_train = sc.fit_transform(X1_train)\n",
    "X1_test = sc.transform(X1_test)"
   ]
  },
  {
   "cell_type": "code",
   "execution_count": 53,
   "metadata": {},
   "outputs": [
    {
     "data": {
      "text/plain": [
       "(32624, 6)"
      ]
     },
     "execution_count": 53,
     "metadata": {},
     "output_type": "execute_result"
    }
   ],
   "source": [
    "X1_train.shape\n"
   ]
  },
  {
   "cell_type": "code",
   "execution_count": 54,
   "metadata": {},
   "outputs": [
    {
     "data": {
      "text/plain": [
       "(13982, 6)"
      ]
     },
     "execution_count": 54,
     "metadata": {},
     "output_type": "execute_result"
    }
   ],
   "source": [
    "X1_test.shape\n"
   ]
  },
  {
   "cell_type": "markdown",
   "metadata": {},
   "source": [
    "## Models\n",
    "\n",
    "### 1. Desicion Tree"
   ]
  },
  {
   "cell_type": "code",
   "execution_count": 55,
   "metadata": {},
   "outputs": [
    {
     "ename": "ValueError",
     "evalue": "could not convert string to float: 'NA'",
     "output_type": "error",
     "traceback": [
      "\u001b[1;31m---------------------------------------------------------------------------\u001b[0m",
      "\u001b[1;31mValueError\u001b[0m                                Traceback (most recent call last)",
      "\u001b[1;32m<ipython-input-55-5bb5c39c34b2>\u001b[0m in \u001b[0;36m<module>\u001b[1;34m()\u001b[0m\n\u001b[0;32m      2\u001b[0m \u001b[1;32mfrom\u001b[0m \u001b[0msklearn\u001b[0m\u001b[1;33m.\u001b[0m\u001b[0mtree\u001b[0m \u001b[1;32mimport\u001b[0m \u001b[0mDecisionTreeClassifier\u001b[0m\u001b[1;33m\u001b[0m\u001b[0m\n\u001b[0;32m      3\u001b[0m \u001b[0mmodel1_dtree\u001b[0m\u001b[1;33m=\u001b[0m\u001b[0mDecisionTreeClassifier\u001b[0m\u001b[1;33m(\u001b[0m\u001b[1;33m)\u001b[0m\u001b[1;33m\u001b[0m\u001b[0m\n\u001b[1;32m----> 4\u001b[1;33m \u001b[0mmodel1_dtree\u001b[0m\u001b[1;33m.\u001b[0m\u001b[0mfit\u001b[0m\u001b[1;33m(\u001b[0m\u001b[0mX1_train\u001b[0m\u001b[1;33m,\u001b[0m\u001b[0my1_train\u001b[0m\u001b[1;33m)\u001b[0m\u001b[1;33m\u001b[0m\u001b[0m\n\u001b[0m",
      "\u001b[1;32mD:\\Softwares\\Anaconda\\lib\\site-packages\\sklearn\\tree\\tree.py\u001b[0m in \u001b[0;36mfit\u001b[1;34m(self, X, y, sample_weight, check_input, X_idx_sorted)\u001b[0m\n\u001b[0;32m    814\u001b[0m             \u001b[0msample_weight\u001b[0m\u001b[1;33m=\u001b[0m\u001b[0msample_weight\u001b[0m\u001b[1;33m,\u001b[0m\u001b[1;33m\u001b[0m\u001b[0m\n\u001b[0;32m    815\u001b[0m             \u001b[0mcheck_input\u001b[0m\u001b[1;33m=\u001b[0m\u001b[0mcheck_input\u001b[0m\u001b[1;33m,\u001b[0m\u001b[1;33m\u001b[0m\u001b[0m\n\u001b[1;32m--> 816\u001b[1;33m             X_idx_sorted=X_idx_sorted)\n\u001b[0m\u001b[0;32m    817\u001b[0m         \u001b[1;32mreturn\u001b[0m \u001b[0mself\u001b[0m\u001b[1;33m\u001b[0m\u001b[0m\n\u001b[0;32m    818\u001b[0m \u001b[1;33m\u001b[0m\u001b[0m\n",
      "\u001b[1;32mD:\\Softwares\\Anaconda\\lib\\site-packages\\sklearn\\tree\\tree.py\u001b[0m in \u001b[0;36mfit\u001b[1;34m(self, X, y, sample_weight, check_input, X_idx_sorted)\u001b[0m\n\u001b[0;32m    128\u001b[0m         \u001b[0mrandom_state\u001b[0m \u001b[1;33m=\u001b[0m \u001b[0mcheck_random_state\u001b[0m\u001b[1;33m(\u001b[0m\u001b[0mself\u001b[0m\u001b[1;33m.\u001b[0m\u001b[0mrandom_state\u001b[0m\u001b[1;33m)\u001b[0m\u001b[1;33m\u001b[0m\u001b[0m\n\u001b[0;32m    129\u001b[0m         \u001b[1;32mif\u001b[0m \u001b[0mcheck_input\u001b[0m\u001b[1;33m:\u001b[0m\u001b[1;33m\u001b[0m\u001b[0m\n\u001b[1;32m--> 130\u001b[1;33m             \u001b[0mX\u001b[0m \u001b[1;33m=\u001b[0m \u001b[0mcheck_array\u001b[0m\u001b[1;33m(\u001b[0m\u001b[0mX\u001b[0m\u001b[1;33m,\u001b[0m \u001b[0mdtype\u001b[0m\u001b[1;33m=\u001b[0m\u001b[0mDTYPE\u001b[0m\u001b[1;33m,\u001b[0m \u001b[0maccept_sparse\u001b[0m\u001b[1;33m=\u001b[0m\u001b[1;34m\"csc\"\u001b[0m\u001b[1;33m)\u001b[0m\u001b[1;33m\u001b[0m\u001b[0m\n\u001b[0m\u001b[0;32m    131\u001b[0m             \u001b[0my\u001b[0m \u001b[1;33m=\u001b[0m \u001b[0mcheck_array\u001b[0m\u001b[1;33m(\u001b[0m\u001b[0my\u001b[0m\u001b[1;33m,\u001b[0m \u001b[0mensure_2d\u001b[0m\u001b[1;33m=\u001b[0m\u001b[1;32mFalse\u001b[0m\u001b[1;33m,\u001b[0m \u001b[0mdtype\u001b[0m\u001b[1;33m=\u001b[0m\u001b[1;32mNone\u001b[0m\u001b[1;33m)\u001b[0m\u001b[1;33m\u001b[0m\u001b[0m\n\u001b[0;32m    132\u001b[0m             \u001b[1;32mif\u001b[0m \u001b[0missparse\u001b[0m\u001b[1;33m(\u001b[0m\u001b[0mX\u001b[0m\u001b[1;33m)\u001b[0m\u001b[1;33m:\u001b[0m\u001b[1;33m\u001b[0m\u001b[0m\n",
      "\u001b[1;32mD:\\Softwares\\Anaconda\\lib\\site-packages\\sklearn\\utils\\validation.py\u001b[0m in \u001b[0;36mcheck_array\u001b[1;34m(array, accept_sparse, accept_large_sparse, dtype, order, copy, force_all_finite, ensure_2d, allow_nd, ensure_min_samples, ensure_min_features, warn_on_dtype, estimator)\u001b[0m\n\u001b[0;32m    494\u001b[0m             \u001b[1;32mtry\u001b[0m\u001b[1;33m:\u001b[0m\u001b[1;33m\u001b[0m\u001b[0m\n\u001b[0;32m    495\u001b[0m                 \u001b[0mwarnings\u001b[0m\u001b[1;33m.\u001b[0m\u001b[0msimplefilter\u001b[0m\u001b[1;33m(\u001b[0m\u001b[1;34m'error'\u001b[0m\u001b[1;33m,\u001b[0m \u001b[0mComplexWarning\u001b[0m\u001b[1;33m)\u001b[0m\u001b[1;33m\u001b[0m\u001b[0m\n\u001b[1;32m--> 496\u001b[1;33m                 \u001b[0marray\u001b[0m \u001b[1;33m=\u001b[0m \u001b[0mnp\u001b[0m\u001b[1;33m.\u001b[0m\u001b[0masarray\u001b[0m\u001b[1;33m(\u001b[0m\u001b[0marray\u001b[0m\u001b[1;33m,\u001b[0m \u001b[0mdtype\u001b[0m\u001b[1;33m=\u001b[0m\u001b[0mdtype\u001b[0m\u001b[1;33m,\u001b[0m \u001b[0morder\u001b[0m\u001b[1;33m=\u001b[0m\u001b[0morder\u001b[0m\u001b[1;33m)\u001b[0m\u001b[1;33m\u001b[0m\u001b[0m\n\u001b[0m\u001b[0;32m    497\u001b[0m             \u001b[1;32mexcept\u001b[0m \u001b[0mComplexWarning\u001b[0m\u001b[1;33m:\u001b[0m\u001b[1;33m\u001b[0m\u001b[0m\n\u001b[0;32m    498\u001b[0m                 raise ValueError(\"Complex data not supported\\n\"\n",
      "\u001b[1;32mD:\\Softwares\\Anaconda\\lib\\site-packages\\numpy\\core\\_asarray.py\u001b[0m in \u001b[0;36masarray\u001b[1;34m(a, dtype, order)\u001b[0m\n\u001b[0;32m     83\u001b[0m \u001b[1;33m\u001b[0m\u001b[0m\n\u001b[0;32m     84\u001b[0m     \"\"\"\n\u001b[1;32m---> 85\u001b[1;33m     \u001b[1;32mreturn\u001b[0m \u001b[0marray\u001b[0m\u001b[1;33m(\u001b[0m\u001b[0ma\u001b[0m\u001b[1;33m,\u001b[0m \u001b[0mdtype\u001b[0m\u001b[1;33m,\u001b[0m \u001b[0mcopy\u001b[0m\u001b[1;33m=\u001b[0m\u001b[1;32mFalse\u001b[0m\u001b[1;33m,\u001b[0m \u001b[0morder\u001b[0m\u001b[1;33m=\u001b[0m\u001b[0morder\u001b[0m\u001b[1;33m)\u001b[0m\u001b[1;33m\u001b[0m\u001b[0m\n\u001b[0m\u001b[0;32m     86\u001b[0m \u001b[1;33m\u001b[0m\u001b[0m\n\u001b[0;32m     87\u001b[0m \u001b[1;33m\u001b[0m\u001b[0m\n",
      "\u001b[1;31mValueError\u001b[0m: could not convert string to float: 'NA'"
     ]
    }
   ],
   "source": [
    "# Training the model\n",
    "from sklearn.tree import DecisionTreeClassifier\n",
    "model1_dtree=DecisionTreeClassifier()\n",
    "model1_dtree.fit(X1_train,y1_train)"
   ]
  },
  {
   "cell_type": "code",
   "execution_count": null,
   "metadata": {},
   "outputs": [],
   "source": [
    "# Predicting the model\n",
    "y1_predict_dtree = model1_dtree.predict(X1_test)"
   ]
  },
  {
   "cell_type": "code",
   "execution_count": null,
   "metadata": {},
   "outputs": [],
   "source": [
    "# Finding accuracy, precision, recall and confusion matrix\n",
    "print(accuracy_score(y1_test,y1_predict_dtree))\n",
    "print(classification_report(y1_test,y1_predict_dtree))"
   ]
  },
  {
   "cell_type": "code",
   "execution_count": null,
   "metadata": {},
   "outputs": [],
   "source": [
    "confusion_matrix(y1_test,y1_predict_dtree)\n"
   ]
  },
  {
   "cell_type": "markdown",
   "metadata": {},
   "source": [
    "### 3. Random Forest"
   ]
  },
  {
   "cell_type": "code",
   "execution_count": 57,
   "metadata": {},
   "outputs": [
    {
     "ename": "ValueError",
     "evalue": "could not convert string to float: 'NA'",
     "output_type": "error",
     "traceback": [
      "\u001b[1;31m---------------------------------------------------------------------------\u001b[0m",
      "\u001b[1;31mValueError\u001b[0m                                Traceback (most recent call last)",
      "\u001b[1;32m<ipython-input-57-476539f63b0c>\u001b[0m in \u001b[0;36m<module>\u001b[1;34m()\u001b[0m\n\u001b[0;32m      2\u001b[0m \u001b[1;32mfrom\u001b[0m \u001b[0msklearn\u001b[0m\u001b[1;33m.\u001b[0m\u001b[0mensemble\u001b[0m \u001b[1;32mimport\u001b[0m \u001b[0mRandomForestClassifier\u001b[0m\u001b[1;33m\u001b[0m\u001b[0m\n\u001b[0;32m      3\u001b[0m \u001b[0mmodel1_rf\u001b[0m \u001b[1;33m=\u001b[0m \u001b[0mRandomForestClassifier\u001b[0m\u001b[1;33m(\u001b[0m\u001b[1;33m)\u001b[0m\u001b[1;33m\u001b[0m\u001b[0m\n\u001b[1;32m----> 4\u001b[1;33m \u001b[0mmodel1_rf\u001b[0m\u001b[1;33m.\u001b[0m\u001b[0mfit\u001b[0m\u001b[1;33m(\u001b[0m\u001b[0mX1_train\u001b[0m\u001b[1;33m,\u001b[0m\u001b[0my1_train\u001b[0m\u001b[1;33m)\u001b[0m\u001b[1;33m\u001b[0m\u001b[0m\n\u001b[0m",
      "\u001b[1;32mD:\\Softwares\\Anaconda\\lib\\site-packages\\sklearn\\ensemble\\forest.py\u001b[0m in \u001b[0;36mfit\u001b[1;34m(self, X, y, sample_weight)\u001b[0m\n\u001b[0;32m    247\u001b[0m \u001b[1;33m\u001b[0m\u001b[0m\n\u001b[0;32m    248\u001b[0m         \u001b[1;31m# Validate or convert input data\u001b[0m\u001b[1;33m\u001b[0m\u001b[1;33m\u001b[0m\u001b[0m\n\u001b[1;32m--> 249\u001b[1;33m         \u001b[0mX\u001b[0m \u001b[1;33m=\u001b[0m \u001b[0mcheck_array\u001b[0m\u001b[1;33m(\u001b[0m\u001b[0mX\u001b[0m\u001b[1;33m,\u001b[0m \u001b[0maccept_sparse\u001b[0m\u001b[1;33m=\u001b[0m\u001b[1;34m\"csc\"\u001b[0m\u001b[1;33m,\u001b[0m \u001b[0mdtype\u001b[0m\u001b[1;33m=\u001b[0m\u001b[0mDTYPE\u001b[0m\u001b[1;33m)\u001b[0m\u001b[1;33m\u001b[0m\u001b[0m\n\u001b[0m\u001b[0;32m    250\u001b[0m         \u001b[0my\u001b[0m \u001b[1;33m=\u001b[0m \u001b[0mcheck_array\u001b[0m\u001b[1;33m(\u001b[0m\u001b[0my\u001b[0m\u001b[1;33m,\u001b[0m \u001b[0maccept_sparse\u001b[0m\u001b[1;33m=\u001b[0m\u001b[1;34m'csc'\u001b[0m\u001b[1;33m,\u001b[0m \u001b[0mensure_2d\u001b[0m\u001b[1;33m=\u001b[0m\u001b[1;32mFalse\u001b[0m\u001b[1;33m,\u001b[0m \u001b[0mdtype\u001b[0m\u001b[1;33m=\u001b[0m\u001b[1;32mNone\u001b[0m\u001b[1;33m)\u001b[0m\u001b[1;33m\u001b[0m\u001b[0m\n\u001b[0;32m    251\u001b[0m         \u001b[1;32mif\u001b[0m \u001b[0msample_weight\u001b[0m \u001b[1;32mis\u001b[0m \u001b[1;32mnot\u001b[0m \u001b[1;32mNone\u001b[0m\u001b[1;33m:\u001b[0m\u001b[1;33m\u001b[0m\u001b[0m\n",
      "\u001b[1;32mD:\\Softwares\\Anaconda\\lib\\site-packages\\sklearn\\utils\\validation.py\u001b[0m in \u001b[0;36mcheck_array\u001b[1;34m(array, accept_sparse, accept_large_sparse, dtype, order, copy, force_all_finite, ensure_2d, allow_nd, ensure_min_samples, ensure_min_features, warn_on_dtype, estimator)\u001b[0m\n\u001b[0;32m    494\u001b[0m             \u001b[1;32mtry\u001b[0m\u001b[1;33m:\u001b[0m\u001b[1;33m\u001b[0m\u001b[0m\n\u001b[0;32m    495\u001b[0m                 \u001b[0mwarnings\u001b[0m\u001b[1;33m.\u001b[0m\u001b[0msimplefilter\u001b[0m\u001b[1;33m(\u001b[0m\u001b[1;34m'error'\u001b[0m\u001b[1;33m,\u001b[0m \u001b[0mComplexWarning\u001b[0m\u001b[1;33m)\u001b[0m\u001b[1;33m\u001b[0m\u001b[0m\n\u001b[1;32m--> 496\u001b[1;33m                 \u001b[0marray\u001b[0m \u001b[1;33m=\u001b[0m \u001b[0mnp\u001b[0m\u001b[1;33m.\u001b[0m\u001b[0masarray\u001b[0m\u001b[1;33m(\u001b[0m\u001b[0marray\u001b[0m\u001b[1;33m,\u001b[0m \u001b[0mdtype\u001b[0m\u001b[1;33m=\u001b[0m\u001b[0mdtype\u001b[0m\u001b[1;33m,\u001b[0m \u001b[0morder\u001b[0m\u001b[1;33m=\u001b[0m\u001b[0morder\u001b[0m\u001b[1;33m)\u001b[0m\u001b[1;33m\u001b[0m\u001b[0m\n\u001b[0m\u001b[0;32m    497\u001b[0m             \u001b[1;32mexcept\u001b[0m \u001b[0mComplexWarning\u001b[0m\u001b[1;33m:\u001b[0m\u001b[1;33m\u001b[0m\u001b[0m\n\u001b[0;32m    498\u001b[0m                 raise ValueError(\"Complex data not supported\\n\"\n",
      "\u001b[1;32mD:\\Softwares\\Anaconda\\lib\\site-packages\\numpy\\core\\_asarray.py\u001b[0m in \u001b[0;36masarray\u001b[1;34m(a, dtype, order)\u001b[0m\n\u001b[0;32m     83\u001b[0m \u001b[1;33m\u001b[0m\u001b[0m\n\u001b[0;32m     84\u001b[0m     \"\"\"\n\u001b[1;32m---> 85\u001b[1;33m     \u001b[1;32mreturn\u001b[0m \u001b[0marray\u001b[0m\u001b[1;33m(\u001b[0m\u001b[0ma\u001b[0m\u001b[1;33m,\u001b[0m \u001b[0mdtype\u001b[0m\u001b[1;33m,\u001b[0m \u001b[0mcopy\u001b[0m\u001b[1;33m=\u001b[0m\u001b[1;32mFalse\u001b[0m\u001b[1;33m,\u001b[0m \u001b[0morder\u001b[0m\u001b[1;33m=\u001b[0m\u001b[0morder\u001b[0m\u001b[1;33m)\u001b[0m\u001b[1;33m\u001b[0m\u001b[0m\n\u001b[0m\u001b[0;32m     86\u001b[0m \u001b[1;33m\u001b[0m\u001b[0m\n\u001b[0;32m     87\u001b[0m \u001b[1;33m\u001b[0m\u001b[0m\n",
      "\u001b[1;31mValueError\u001b[0m: could not convert string to float: 'NA'"
     ]
    }
   ],
   "source": [
    "# Trainiong the Model\n",
    "from sklearn.ensemble import RandomForestClassifier\n",
    "model1_rf = RandomForestClassifier()\n",
    "model1_rf.fit(X1_train,y1_train)"
   ]
  },
  {
   "cell_type": "code",
   "execution_count": null,
   "metadata": {},
   "outputs": [],
   "source": [
    "# Predictiong the model\n",
    "y1_predict_rf = model1_rf.predict(X1_test)"
   ]
  },
  {
   "cell_type": "code",
   "execution_count": null,
   "metadata": {},
   "outputs": [],
   "source": [
    "# Finding accuracy, precision, recall and confusion matrix\n",
    "print(accuracy_score(y1_test,y1_predict_rf))\n",
    "print(classification_report(y1_test,y1_predict_rf))"
   ]
  },
  {
   "cell_type": "code",
   "execution_count": null,
   "metadata": {},
   "outputs": [],
   "source": [
    "confusion_matrix(y1_test,y1_predict_rf)"
   ]
  },
  {
   "cell_type": "code",
   "execution_count": null,
   "metadata": {},
   "outputs": [],
   "source": [
    "# Exporting the trained model\n",
    "joblib.dump(model1_dtree,'Predict_RFC.ml')"
   ]
  },
  {
   "cell_type": "markdown",
   "metadata": {},
   "source": [
    "### 3. Forecasting the Incident Volume"
   ]
  },
  {
   "cell_type": "code",
   "execution_count": 59,
   "metadata": {},
   "outputs": [],
   "source": [
    "# Imporing the necessary columns\n",
    "incfrq = data.loc[:,['Incident_ID','Open_Time']]"
   ]
  },
  {
   "cell_type": "code",
   "execution_count": 60,
   "metadata": {},
   "outputs": [
    {
     "data": {
      "text/html": [
       "<div>\n",
       "<style scoped>\n",
       "    .dataframe tbody tr th:only-of-type {\n",
       "        vertical-align: middle;\n",
       "    }\n",
       "\n",
       "    .dataframe tbody tr th {\n",
       "        vertical-align: top;\n",
       "    }\n",
       "\n",
       "    .dataframe thead th {\n",
       "        text-align: right;\n",
       "    }\n",
       "</style>\n",
       "<table border=\"1\" class=\"dataframe\">\n",
       "  <thead>\n",
       "    <tr style=\"text-align: right;\">\n",
       "      <th></th>\n",
       "      <th>Incident_ID</th>\n",
       "      <th>Open_Time</th>\n",
       "    </tr>\n",
       "  </thead>\n",
       "  <tbody>\n",
       "    <tr>\n",
       "      <th>0</th>\n",
       "      <td>IM0000004</td>\n",
       "      <td>05-02-2012 13:32</td>\n",
       "    </tr>\n",
       "    <tr>\n",
       "      <th>1</th>\n",
       "      <td>IM0000005</td>\n",
       "      <td>12-03-2012 15:44</td>\n",
       "    </tr>\n",
       "    <tr>\n",
       "      <th>2</th>\n",
       "      <td>IM0000006</td>\n",
       "      <td>29-03-2012 12:36</td>\n",
       "    </tr>\n",
       "    <tr>\n",
       "      <th>3</th>\n",
       "      <td>IM0000011</td>\n",
       "      <td>17-07-2012 11:49</td>\n",
       "    </tr>\n",
       "    <tr>\n",
       "      <th>4</th>\n",
       "      <td>IM0000012</td>\n",
       "      <td>10-08-2012 11:01</td>\n",
       "    </tr>\n",
       "  </tbody>\n",
       "</table>\n",
       "</div>"
      ],
      "text/plain": [
       "  Incident_ID         Open_Time\n",
       "0   IM0000004  05-02-2012 13:32\n",
       "1   IM0000005  12-03-2012 15:44\n",
       "2   IM0000006  29-03-2012 12:36\n",
       "3   IM0000011  17-07-2012 11:49\n",
       "4   IM0000012  10-08-2012 11:01"
      ]
     },
     "execution_count": 60,
     "metadata": {},
     "output_type": "execute_result"
    }
   ],
   "source": [
    "incfrq.head()"
   ]
  },
  {
   "cell_type": "markdown",
   "metadata": {},
   "source": [
    "#### Data Processing/ Data Mugging"
   ]
  },
  {
   "cell_type": "code",
   "execution_count": 61,
   "metadata": {},
   "outputs": [],
   "source": [
    "# Coverting all the values in proper Datetime format\n",
    "for i in range(len(incfrq.Open_Time)):\n",
    "    if (incfrq.Open_Time[i][1]=='/'):\n",
    "        incfrq.Open_Time[i] = dt.datetime.strptime(incfrq.Open_Time[i],'%d/%m/%Y %H:%M').date()\n",
    "    elif (incfrq.Open_Time[i][2]=='/'):\n",
    "        incfrq.Open_Time[i] = dt.datetime.strptime(incfrq.Open_Time[i],'%d/%m/%Y %H:%M').date()\n",
    "    else:\n",
    "        incfrq.Open_Time[i] = dt.datetime.strptime(incfrq.Open_Time[i],'%d-%m-%Y %H:%M').date()\n"
   ]
  },
  {
   "cell_type": "code",
   "execution_count": 62,
   "metadata": {},
   "outputs": [
    {
     "data": {
      "text/html": [
       "<div>\n",
       "<style scoped>\n",
       "    .dataframe tbody tr th:only-of-type {\n",
       "        vertical-align: middle;\n",
       "    }\n",
       "\n",
       "    .dataframe tbody tr th {\n",
       "        vertical-align: top;\n",
       "    }\n",
       "\n",
       "    .dataframe thead th {\n",
       "        text-align: right;\n",
       "    }\n",
       "</style>\n",
       "<table border=\"1\" class=\"dataframe\">\n",
       "  <thead>\n",
       "    <tr style=\"text-align: right;\">\n",
       "      <th></th>\n",
       "      <th>Incident_ID</th>\n",
       "      <th>Open_Time</th>\n",
       "    </tr>\n",
       "  </thead>\n",
       "  <tbody>\n",
       "    <tr>\n",
       "      <th>0</th>\n",
       "      <td>IM0000004</td>\n",
       "      <td>2012-02-05</td>\n",
       "    </tr>\n",
       "    <tr>\n",
       "      <th>1</th>\n",
       "      <td>IM0000005</td>\n",
       "      <td>2012-03-12</td>\n",
       "    </tr>\n",
       "    <tr>\n",
       "      <th>2</th>\n",
       "      <td>IM0000006</td>\n",
       "      <td>2012-03-29</td>\n",
       "    </tr>\n",
       "    <tr>\n",
       "      <th>3</th>\n",
       "      <td>IM0000011</td>\n",
       "      <td>2012-07-17</td>\n",
       "    </tr>\n",
       "    <tr>\n",
       "      <th>4</th>\n",
       "      <td>IM0000012</td>\n",
       "      <td>2012-08-10</td>\n",
       "    </tr>\n",
       "  </tbody>\n",
       "</table>\n",
       "</div>"
      ],
      "text/plain": [
       "  Incident_ID   Open_Time\n",
       "0   IM0000004  2012-02-05\n",
       "1   IM0000005  2012-03-12\n",
       "2   IM0000006  2012-03-29\n",
       "3   IM0000011  2012-07-17\n",
       "4   IM0000012  2012-08-10"
      ]
     },
     "execution_count": 62,
     "metadata": {},
     "output_type": "execute_result"
    }
   ],
   "source": [
    "incfrq.head()"
   ]
  },
  {
   "cell_type": "code",
   "execution_count": 63,
   "metadata": {},
   "outputs": [],
   "source": [
    "# Adding a new column which will have the number of tickets per day\n",
    "incfrq['No_Incidents'] = incfrq.groupby('Open_Time')['Incident_ID'].transform('count')"
   ]
  },
  {
   "cell_type": "code",
   "execution_count": 64,
   "metadata": {},
   "outputs": [],
   "source": [
    "incfrq.drop(['Incident_ID'],axis=1,inplace=True)\n",
    "incfrq.drop_duplicates(inplace=True)"
   ]
  },
  {
   "cell_type": "code",
   "execution_count": 66,
   "metadata": {},
   "outputs": [
    {
     "data": {
      "text/html": [
       "<div>\n",
       "<style scoped>\n",
       "    .dataframe tbody tr th:only-of-type {\n",
       "        vertical-align: middle;\n",
       "    }\n",
       "\n",
       "    .dataframe tbody tr th {\n",
       "        vertical-align: top;\n",
       "    }\n",
       "\n",
       "    .dataframe thead th {\n",
       "        text-align: right;\n",
       "    }\n",
       "</style>\n",
       "<table border=\"1\" class=\"dataframe\">\n",
       "  <thead>\n",
       "    <tr style=\"text-align: right;\">\n",
       "      <th></th>\n",
       "      <th>Open_Time</th>\n",
       "      <th>No_Incidents</th>\n",
       "    </tr>\n",
       "  </thead>\n",
       "  <tbody>\n",
       "    <tr>\n",
       "      <th>0</th>\n",
       "      <td>2012-02-05</td>\n",
       "      <td>1</td>\n",
       "    </tr>\n",
       "    <tr>\n",
       "      <th>1</th>\n",
       "      <td>2012-03-12</td>\n",
       "      <td>1</td>\n",
       "    </tr>\n",
       "    <tr>\n",
       "      <th>2</th>\n",
       "      <td>2012-03-29</td>\n",
       "      <td>1</td>\n",
       "    </tr>\n",
       "    <tr>\n",
       "      <th>3</th>\n",
       "      <td>2012-07-17</td>\n",
       "      <td>1</td>\n",
       "    </tr>\n",
       "    <tr>\n",
       "      <th>4</th>\n",
       "      <td>2012-08-10</td>\n",
       "      <td>2</td>\n",
       "    </tr>\n",
       "  </tbody>\n",
       "</table>\n",
       "</div>"
      ],
      "text/plain": [
       "    Open_Time  No_Incidents\n",
       "0  2012-02-05             1\n",
       "1  2012-03-12             1\n",
       "2  2012-03-29             1\n",
       "3  2012-07-17             1\n",
       "4  2012-08-10             2"
      ]
     },
     "execution_count": 66,
     "metadata": {},
     "output_type": "execute_result"
    }
   ],
   "source": [
    "incfrq.head()"
   ]
  },
  {
   "cell_type": "code",
   "execution_count": 68,
   "metadata": {},
   "outputs": [
    {
     "data": {
      "text/plain": [
       "DatetimeIndex(['2012-02-05', '2012-03-12', '2012-03-29', '2012-07-17',\n",
       "               '2012-08-10', '2012-08-15', '2012-08-22', '2012-08-29',\n",
       "               '2012-09-03', '2012-09-21',\n",
       "               ...\n",
       "               '2014-03-22', '2014-03-24', '2014-03-23', '2014-03-25',\n",
       "               '2014-03-26', '2014-03-27', '2014-03-28', '2014-03-29',\n",
       "               '2014-03-30', '2014-03-31'],\n",
       "              dtype='datetime64[ns]', name='Open_Time', length=331, freq=None)"
      ]
     },
     "execution_count": 68,
     "metadata": {},
     "output_type": "execute_result"
    }
   ],
   "source": [
    "# Setting Date as the Index\n",
    "incfrq = incfrq.set_index('Open_Time')\n",
    "incfrq.index = pd.to_datetime(incfrq.index)\n",
    "incfrq.index"
   ]
  },
  {
   "cell_type": "code",
   "execution_count": 69,
   "metadata": {},
   "outputs": [
    {
     "data": {
      "text/html": [
       "<div>\n",
       "<style scoped>\n",
       "    .dataframe tbody tr th:only-of-type {\n",
       "        vertical-align: middle;\n",
       "    }\n",
       "\n",
       "    .dataframe tbody tr th {\n",
       "        vertical-align: top;\n",
       "    }\n",
       "\n",
       "    .dataframe thead th {\n",
       "        text-align: right;\n",
       "    }\n",
       "</style>\n",
       "<table border=\"1\" class=\"dataframe\">\n",
       "  <thead>\n",
       "    <tr style=\"text-align: right;\">\n",
       "      <th></th>\n",
       "      <th>No_Incidents</th>\n",
       "    </tr>\n",
       "    <tr>\n",
       "      <th>Open_Time</th>\n",
       "      <th></th>\n",
       "    </tr>\n",
       "  </thead>\n",
       "  <tbody>\n",
       "    <tr>\n",
       "      <th>2012-02-05</th>\n",
       "      <td>1</td>\n",
       "    </tr>\n",
       "    <tr>\n",
       "      <th>2012-03-12</th>\n",
       "      <td>1</td>\n",
       "    </tr>\n",
       "    <tr>\n",
       "      <th>2012-03-29</th>\n",
       "      <td>1</td>\n",
       "    </tr>\n",
       "    <tr>\n",
       "      <th>2012-07-17</th>\n",
       "      <td>1</td>\n",
       "    </tr>\n",
       "    <tr>\n",
       "      <th>2012-08-10</th>\n",
       "      <td>2</td>\n",
       "    </tr>\n",
       "  </tbody>\n",
       "</table>\n",
       "</div>"
      ],
      "text/plain": [
       "            No_Incidents\n",
       "Open_Time               \n",
       "2012-02-05             1\n",
       "2012-03-12             1\n",
       "2012-03-29             1\n",
       "2012-07-17             1\n",
       "2012-08-10             2"
      ]
     },
     "execution_count": 69,
     "metadata": {},
     "output_type": "execute_result"
    }
   ],
   "source": [
    "incfrq.head()"
   ]
  },
  {
   "cell_type": "code",
   "execution_count": 70,
   "metadata": {},
   "outputs": [
    {
     "name": "stdout",
     "output_type": "stream",
     "text": [
      "2012-02-05 00:00:00 to 2014-03-31 00:00:00\n"
     ]
    }
   ],
   "source": [
    "# Checking the range of dates for our values\n",
    "print(incfrq.index.min(),'to',incfrq.index.max())"
   ]
  },
  {
   "cell_type": "code",
   "execution_count": 71,
   "metadata": {},
   "outputs": [
    {
     "data": {
      "text/plain": [
       "DatetimeIndex(['2012-02-05', '2012-02-06', '2012-02-07', '2012-02-08',\n",
       "               '2012-02-09', '2012-02-10', '2012-02-11', '2012-02-12',\n",
       "               '2012-02-13', '2012-02-14',\n",
       "               ...\n",
       "               '2014-03-22', '2014-03-23', '2014-03-24', '2014-03-25',\n",
       "               '2014-03-26', '2014-03-27', '2014-03-28', '2014-03-29',\n",
       "               '2014-03-30', '2014-03-31'],\n",
       "              dtype='datetime64[ns]', name='Open_Time', length=786, freq='D')"
      ]
     },
     "execution_count": 71,
     "metadata": {},
     "output_type": "execute_result"
    }
   ],
   "source": [
    "# Making a new Series with frequency as Day\n",
    "data1 = incfrq['No_Incidents']\n",
    "data1 = data1.asfreq('D')\n",
    "data1.index"
   ]
  },
  {
   "cell_type": "code",
   "execution_count": 72,
   "metadata": {},
   "outputs": [
    {
     "data": {
      "text/plain": [
       "Open_Time\n",
       "2012-02-05    1.0\n",
       "2012-02-06    NaN\n",
       "2012-02-07    NaN\n",
       "2012-02-08    NaN\n",
       "2012-02-09    NaN\n",
       "Freq: D, Name: No_Incidents, dtype: float64"
      ]
     },
     "execution_count": 72,
     "metadata": {},
     "output_type": "execute_result"
    }
   ],
   "source": [
    "data1.head()\n"
   ]
  },
  {
   "cell_type": "code",
   "execution_count": 73,
   "metadata": {},
   "outputs": [
    {
     "data": {
      "image/png": "[encoded data removed]",
      "text/plain": [
       "<Figure size 1080x432 with 1 Axes>"
      ]
     },
     "metadata": {},
     "output_type": "display_data"
    }
   ],
   "source": [
    "# Plotting number of tickets per day\n",
    "data1.plot(figsize=(15,6))\n",
    "plt.show()"
   ]
  },
  {
   "cell_type": "code",
   "execution_count": 74,
   "metadata": {},
   "outputs": [],
   "source": [
    "# Since not many tickets before October 2013, we consider only the latter values\n",
    "incfrom2013 = incfrq[incfrq.index > dt.datetime(2013,10,1)]"
   ]
  },
  {
   "cell_type": "code",
   "execution_count": 75,
   "metadata": {},
   "outputs": [
    {
     "data": {
      "text/html": [
       "<div>\n",
       "<style scoped>\n",
       "    .dataframe tbody tr th:only-of-type {\n",
       "        vertical-align: middle;\n",
       "    }\n",
       "\n",
       "    .dataframe tbody tr th {\n",
       "        vertical-align: top;\n",
       "    }\n",
       "\n",
       "    .dataframe thead th {\n",
       "        text-align: right;\n",
       "    }\n",
       "</style>\n",
       "<table border=\"1\" class=\"dataframe\">\n",
       "  <thead>\n",
       "    <tr style=\"text-align: right;\">\n",
       "      <th></th>\n",
       "      <th>No_Incidents</th>\n",
       "    </tr>\n",
       "    <tr>\n",
       "      <th>Open_Time</th>\n",
       "      <th></th>\n",
       "    </tr>\n",
       "  </thead>\n",
       "  <tbody>\n",
       "    <tr>\n",
       "      <th>2013-10-02</th>\n",
       "      <td>412</td>\n",
       "    </tr>\n",
       "    <tr>\n",
       "      <th>2013-10-03</th>\n",
       "      <td>455</td>\n",
       "    </tr>\n",
       "    <tr>\n",
       "      <th>2013-10-04</th>\n",
       "      <td>345</td>\n",
       "    </tr>\n",
       "    <tr>\n",
       "      <th>2013-10-07</th>\n",
       "      <td>456</td>\n",
       "    </tr>\n",
       "    <tr>\n",
       "      <th>2013-10-05</th>\n",
       "      <td>6</td>\n",
       "    </tr>\n",
       "  </tbody>\n",
       "</table>\n",
       "</div>"
      ],
      "text/plain": [
       "            No_Incidents\n",
       "Open_Time               \n",
       "2013-10-02           412\n",
       "2013-10-03           455\n",
       "2013-10-04           345\n",
       "2013-10-07           456\n",
       "2013-10-05             6"
      ]
     },
     "execution_count": 75,
     "metadata": {},
     "output_type": "execute_result"
    }
   ],
   "source": [
    "incfrom2013.head()\n"
   ]
  },
  {
   "cell_type": "code",
   "execution_count": 76,
   "metadata": {},
   "outputs": [
    {
     "data": {
      "text/plain": [
       "DatetimeIndex(['2013-10-02', '2013-10-03', '2013-10-04', '2013-10-05',\n",
       "               '2013-10-06', '2013-10-07', '2013-10-08', '2013-10-09',\n",
       "               '2013-10-10', '2013-10-11',\n",
       "               ...\n",
       "               '2014-03-22', '2014-03-23', '2014-03-24', '2014-03-25',\n",
       "               '2014-03-26', '2014-03-27', '2014-03-28', '2014-03-29',\n",
       "               '2014-03-30', '2014-03-31'],\n",
       "              dtype='datetime64[ns]', name='Open_Time', length=181, freq='D')"
      ]
     },
     "execution_count": 76,
     "metadata": {},
     "output_type": "execute_result"
    }
   ],
   "source": [
    "# new Series\n",
    "data2 = incfrom2013['No_Incidents']\n",
    "data2 = data2.asfreq('D')\n",
    "data2.index"
   ]
  },
  {
   "cell_type": "code",
   "execution_count": 77,
   "metadata": {},
   "outputs": [
    {
     "data": {
      "image/png": "[encoded data removed]",
      "text/plain": [
       "<Figure size 1080x432 with 1 Axes>"
      ]
     },
     "metadata": {},
     "output_type": "display_data"
    }
   ],
   "source": [
    "# Plotting number of tickets per day after October 2013\n",
    "data2.plot(figsize=(15,6))\n",
    "plt.show()"
   ]
  },
  {
   "cell_type": "code",
   "execution_count": 78,
   "metadata": {},
   "outputs": [],
   "source": [
    "# Making a list of values for p,d & q\n",
    "p = d = q = range(0,2)\n",
    "pdq = list(itertools.product(p,d,q))"
   ]
  },
  {
   "cell_type": "code",
   "execution_count": 79,
   "metadata": {},
   "outputs": [
    {
     "name": "stdout",
     "output_type": "stream",
     "text": [
      "ARIMA(0, 0, 0) - AIC:2539.6180293605685\n",
      "ARIMA(0, 0, 1) - AIC:2373.7853824722415\n",
      "ARIMA(0, 1, 0) - AIC:2371.128960804689\n",
      "ARIMA(0, 1, 1) - AIC:2313.1363338175497\n",
      "ARIMA(1, 0, 0) - AIC:2365.2916469365928\n",
      "ARIMA(1, 0, 1) - AIC:2337.3125086933524\n",
      "ARIMA(1, 1, 0) - AIC:2373.1280680651544\n",
      "ARIMA(1, 1, 1) - AIC:2294.4315812436917\n"
     ]
    }
   ],
   "source": [
    "# Checking the AIC values per pairs\n",
    "for param in pdq:\n",
    "    mod = sm.tsa.statespace.SARIMAX(data2,order=param,enforce_stationarity=False,enforce_invertibility=False)\n",
    "    results = mod.fit()\n",
    "    print('ARIMA{} - AIC:{}'.format(param, results.aic))"
   ]
  },
  {
   "cell_type": "code",
   "execution_count": 80,
   "metadata": {},
   "outputs": [
    {
     "name": "stdout",
     "output_type": "stream",
     "text": [
      "==============================================================================\n",
      "                 coef    std err          z      P>|z|      [0.025      0.975]\n",
      "------------------------------------------------------------------------------\n",
      "ar.L1          0.3386      0.090      3.771      0.000       0.163       0.515\n",
      "ma.L1         -0.9989      0.428     -2.332      0.020      -1.839      -0.159\n",
      "sigma2       2.52e+04   9781.791      2.576      0.010    6023.396    4.44e+04\n",
      "==============================================================================\n"
     ]
    }
   ],
   "source": [
    "# Choosing the model with minimum AIC and the ARIMA Model for Time Series Forecasting\n",
    "mod = sm.tsa.statespace.SARIMAX(data2,order=(1,1,1))\n",
    "results = mod.fit()\n",
    "print(results.summary().tables[1])"
   ]
  },
  {
   "cell_type": "code",
   "execution_count": 81,
   "metadata": {},
   "outputs": [
    {
     "data": {
      "text/plain": [
       "2014-03-03    172.0\n",
       "2014-03-04    266.0\n",
       "2014-03-05    279.0\n",
       "2014-03-06    272.0\n",
       "2014-03-07    291.0\n",
       "2014-03-08    267.0\n",
       "2014-03-09    174.0\n",
       "2014-03-10    169.0\n",
       "2014-03-11    289.0\n",
       "2014-03-12    288.0\n",
       "2014-03-13    277.0\n",
       "2014-03-14    273.0\n",
       "2014-03-15    274.0\n",
       "2014-03-16    171.0\n",
       "2014-03-17    169.0\n",
       "2014-03-18    276.0\n",
       "2014-03-19    278.0\n",
       "2014-03-20    282.0\n",
       "2014-03-21    269.0\n",
       "2014-03-22    253.0\n",
       "2014-03-23    170.0\n",
       "2014-03-24    168.0\n",
       "2014-03-25    284.0\n",
       "2014-03-26    272.0\n",
       "2014-03-27    267.0\n",
       "2014-03-28    260.0\n",
       "2014-03-29    238.0\n",
       "2014-03-30    169.0\n",
       "2014-03-31    167.0\n",
       "2014-04-01    240.0\n",
       "              ...  \n",
       "2014-10-01    252.0\n",
       "2014-10-02    252.0\n",
       "2014-10-03    252.0\n",
       "2014-10-04    252.0\n",
       "2014-10-05    252.0\n",
       "2014-10-06    252.0\n",
       "2014-10-07    252.0\n",
       "2014-10-08    252.0\n",
       "2014-10-09    252.0\n",
       "2014-10-10    252.0\n",
       "2014-10-11    252.0\n",
       "2014-10-12    252.0\n",
       "2014-10-13    252.0\n",
       "2014-10-14    252.0\n",
       "2014-10-15    252.0\n",
       "2014-10-16    252.0\n",
       "2014-10-17    252.0\n",
       "2014-10-18    252.0\n",
       "2014-10-19    252.0\n",
       "2014-10-20    252.0\n",
       "2014-10-21    252.0\n",
       "2014-10-22    252.0\n",
       "2014-10-23    252.0\n",
       "2014-10-24    252.0\n",
       "2014-10-25    252.0\n",
       "2014-10-26    252.0\n",
       "2014-10-27    252.0\n",
       "2014-10-28    252.0\n",
       "2014-10-29    252.0\n",
       "2014-10-30    252.0\n",
       "Freq: D, Length: 242, dtype: float64"
      ]
     },
     "execution_count": 81,
     "metadata": {},
     "output_type": "execute_result"
    }
   ],
   "source": [
    "# Predicting the future values and the confidence interval\n",
    "pred = results.get_prediction(start=pd.to_datetime('2014-3-3'),end=pd.to_datetime('2014-10-30'),dynamic=False)\n",
    "pred_ci = pred.conf_int()\n",
    "pred.predicted_mean.round()"
   ]
  },
  {
   "cell_type": "markdown",
   "metadata": {},
   "source": [
    "### Visualization"
   ]
  },
  {
   "cell_type": "code",
   "execution_count": 82,
   "metadata": {},
   "outputs": [
    {
     "data": {
      "image/png": "[encoded data removed]",
      "text/plain": [
       "<Figure size 1080x432 with 1 Axes>"
      ]
     },
     "metadata": {},
     "output_type": "display_data"
    }
   ],
   "source": [
    "ax = data2['2013':].plot(label='observed')\n",
    "pred.predicted_mean.plot(ax=ax,label='One-step ahead Forecast',figsize=(15, 6))\n",
    "ax.fill_between(pred_ci.index,pred_ci.iloc[:,0],pred_ci.iloc[:,1],color='grey',alpha=0.3)\n",
    "ax.set_xlabel('Date')\n",
    "ax.set_ylabel('No of Incidents')\n",
    "plt.legend()\n",
    "plt.show()"
   ]
  },
  {
   "cell_type": "code",
   "execution_count": null,
   "metadata": {},
   "outputs": [],
   "source": [
    "pwd"
   ]
  },
  {
   "cell_type": "code",
   "execution_count": null,
   "metadata": {},
   "outputs": [],
   "source": []
  }
 ],
 "metadata": {
  "kernelspec": {
   "display_name": "Python 3",
   "language": "python",
   "name": "python3"
  },
  "language_info": {
   "codemirror_mode": {
    "name": "ipython",
    "version": 3
   },
   "file_extension": ".py",
   "mimetype": "text/x-python",
   "name": "python",
   "nbconvert_exporter": "python",
   "pygments_lexer": "ipython3",
   "version": "3.7.4"
  }
 },
 "nbformat": 4,
 "nbformat_minor": 2
}
